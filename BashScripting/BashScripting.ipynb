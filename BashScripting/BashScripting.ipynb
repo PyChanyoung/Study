{
 "cells": [
  {
   "cell_type": "markdown",
   "metadata": {},
   "source": [
    "# Bash Scripting\n",
    "\n",
    "## From Command-Line to Bash Script\n",
    "Bash (**Bourne Again Shell**) Scripting\n",
    "- Developed in the 80's but a very popular shell today\n",
    "- Unix is the internet (Running ML models, Data pipelines)\n",
    "- Why?\n",
    "    - Ease of execution of shell commands\n",
    "    - Powerful programming constructs\n",
    "\n",
    "Bash Script:\n",
    "- Usually begins with `#!/usr/bash` (`#!` is shebang)\n",
    "    - your interpreter knows it is a Bash script and to use Bash located in `/bin/bash`\n",
    "- Has a file extension `.sh`\n",
    "    - Technically not needed if first line has the shebang and path to Bash (`#!/usr/bash`), but a convention \n",
    "- Can be run in the terminal using `bash script_name.sh`"
   ]
  },
  {
   "cell_type": "markdown",
   "metadata": {},
   "source": [
    "### Standard stream & arguments\n",
    "\n",
    "Streams\n",
    "- STDIN (standard input) : A stream of data into the program\n",
    "    - Example : `cat sports.txt 1 > new_sports.txt` - taking data from sports.txt file and writing STDOUT to a new file called new_sports.txt\n",
    "- STDOUT (standard output) : A stream of data out of the program\n",
    "\n",
    "- STDERR (standard error) : Errors in your program\n",
    "\n",
    "Arguments (ARGV)\n",
    "- Bash scripts can take arguments to be used inside by adding a space after the script execution call\n",
    "- ARGV is the array of all the arguments given to the program\n",
    "- Each argument can be accessed via the `$` notation. The first as `$1`, the second as `$2`, etc.\n",
    "- `$@` and `$*` give all the arguments in ARGV\n",
    "- `$#` gives the length (number) of arguments\n"
   ]
  }
 ],
 "metadata": {
  "kernelspec": {
   "display_name": "Python 3.10.7 64-bit",
   "language": "python",
   "name": "python3"
  },
  "language_info": {
   "name": "python",
   "version": "3.10.7"
  },
  "orig_nbformat": 4,
  "vscode": {
   "interpreter": {
    "hash": "aee8b7b246df8f9039afb4144a1f6fd8d2ca17a180786b69acc140d282b71a49"
   }
  }
 },
 "nbformat": 4,
 "nbformat_minor": 2
}
