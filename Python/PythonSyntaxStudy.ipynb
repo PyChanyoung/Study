{
 "cells": [
  {
   "cell_type": "markdown",
   "metadata": {},
   "source": [
    "# Writing Efficient Python Code"
   ]
  },
  {
   "cell_type": "markdown",
   "metadata": {},
   "source": [
    "## Iterator vs. Iterable  <GeeksForGeeks>\n",
    "- **Iterable** is an object, which one can iterate over. It generates an Iterator when passed to iter() method.\n",
    "- **Iterator** is an object, which is used to iterate over an iterable object using `__next__()` method. Iterators have `__next__()` method, which returns the next item of the object.\n",
    "- Similar to 'countable' vs 'counter'\n",
    "\n",
    "- Note that every iterator is also an iterable, but not every iterable is an iterator.\n",
    "  - For example, a list is iterable but a list is not an iterator.\n",
    "  \n",
    "- An iterator can be created from an iterable by using the function iter()\n",
    "  - To make this possible, the class of an object needs either a method `__iter__`, which returns an iterator, or a `__getitem__` method with sequential indexes starting with 0.\n",
    "\n",
    "- Any iterable can be used in a for loop, but only sequences can be accessed by integer indices. Trying to access items by index from a generator or an iterator will raise a TypeError:\n",
    "\n",
    "```\n",
    ">>> enum = enumerate(values)\n",
    ">>> enum[0]\n",
    "Traceback (most recent call last):\n",
    "  File \"<stdin>\", line 1, in <module>\n",
    "TypeError: 'enumerate' object is not subscriptable\n",
    "```"
   ]
  },
  {
   "cell_type": "code",
   "execution_count": 1,
   "metadata": {},
   "outputs": [
    {
     "name": "stdout",
     "output_type": "stream",
     "text": [
      "hi\n",
      "hey\n",
      "ho\n"
     ]
    },
    {
     "ename": "StopIteration",
     "evalue": "",
     "output_type": "error",
     "traceback": [
      "\u001b[1;31m---------------------------------------------------------------------------\u001b[0m",
      "\u001b[1;31mStopIteration\u001b[0m                             Traceback (most recent call last)",
      "\u001b[1;32mc:\\Users\\chany\\Desktop\\Study\\Study\\Python\\PythonSyntaxStudy.ipynb Cell 3'\u001b[0m in \u001b[0;36m<cell line: 7>\u001b[1;34m()\u001b[0m\n\u001b[0;32m      <a href='vscode-notebook-cell:/c%3A/Users/chany/Desktop/Study/Study/Python/PythonSyntaxStudy.ipynb#ch0000018?line=4'>5</a>\u001b[0m \u001b[39mprint\u001b[39m(\u001b[39mnext\u001b[39m(lst_iterator))\n\u001b[0;32m      <a href='vscode-notebook-cell:/c%3A/Users/chany/Desktop/Study/Study/Python/PythonSyntaxStudy.ipynb#ch0000018?line=5'>6</a>\u001b[0m \u001b[39mprint\u001b[39m(\u001b[39mnext\u001b[39m(lst_iterator))\n\u001b[1;32m----> <a href='vscode-notebook-cell:/c%3A/Users/chany/Desktop/Study/Study/Python/PythonSyntaxStudy.ipynb#ch0000018?line=6'>7</a>\u001b[0m \u001b[39mprint\u001b[39m(\u001b[39mnext\u001b[39;49m(lst_iterator))\n",
      "\u001b[1;31mStopIteration\u001b[0m: "
     ]
    }
   ],
   "source": [
    "# help(list) #shows 'list' documents\n",
    "lst = ['hi','hey','ho']\n",
    "lst_iterator = iter(lst)\n",
    "print(next(lst_iterator))\n",
    "print(next(lst_iterator))\n",
    "print(next(lst_iterator))\n",
    "print(next(lst_iterator)) # Raise a StopIteration Exception !"
   ]
  },
  {
   "cell_type": "markdown",
   "metadata": {},
   "source": [
    "### For Loop <GeeksForGeeks>\n",
    "When a for loop is executed\n",
    "1. for statement calls iter() on the object\n",
    "2. If this call is successful, the iter call will return an iterator object that defines the method `__next__()`, which accesses elements of the object one at a time\n",
    "3. The `__next__()` method will raise a `StopIteration exception`, if there are no further elements available. The for loop will terminate as soon as it catches a StopIteration exception."
   ]
  },
  {
   "cell_type": "code",
   "execution_count": 2,
   "metadata": {},
   "outputs": [
    {
     "name": "stdout",
     "output_type": "stream",
     "text": [
      "34  is iterable :  False\n",
      "[4, 5]  is iterable :  True\n",
      "(4, 5)  is iterable :  True\n",
      "{'a': 4}  is iterable :  True\n",
      "dfsdf  is iterable :  True\n",
      "4.5  is iterable :  False\n"
     ]
    }
   ],
   "source": [
    "def iterable(obj):\n",
    "    try:\n",
    "        iter(obj)\n",
    "        'hey'\n",
    "        return True\n",
    "    except TypeError:\n",
    "        return False\n",
    "  \n",
    "# Driver Code     \n",
    "for element in [34, [4, 5], (4, 5),\n",
    "             {\"a\":4}, \"dfsdf\", 4.5]:\n",
    "                   \n",
    "    print(element, \" is iterable : \", iterable(element))"
   ]
  },
  {
   "cell_type": "markdown",
   "metadata": {},
   "source": [
    "## Built-In Practice: range()\n",
    "range(stop): this is built-in function to clarify range from 0 to stop.(not involve the stop, means __> stop__)  \n",
    "range(start, stop, step): Create a sequence of number from a start to stop with step size\n",
    "\n",
    "#### Instructions\n",
    "- Create a _range object_ that starts at zero and ends at five. Only use a ```stop``` argument.\n",
    "- Convert the ```nums``` variable into a list called ```nums_list```.\n",
    "- Create a new list called ```nums_list2``` that starts at __one,__ ends at __eleven,__ and increments by __two__ by unpacking a _range object_ using the star character(```*```)."
   ]
  },
  {
   "cell_type": "code",
   "execution_count": 1,
   "metadata": {},
   "outputs": [
    {
     "name": "stdout",
     "output_type": "stream",
     "text": [
      "<class 'range'>\n",
      "[0, 1, 2, 3, 4, 5]\n",
      "[1, 3, 5, 7, 9, 11]\n"
     ]
    }
   ],
   "source": [
    "# Create a range object that goes from 0 to 5\n",
    "nums = range(6)\n",
    "print(type(nums))\n",
    "\n",
    "# Convert nums to a list\n",
    "nums_list = list(nums)\n",
    "print(nums_list)\n",
    "\n",
    "# Create a new list of odd numbers from 1 to 11 by unpacking a range object\n",
    "nums_list2 = [*range(1,13,2)]\n",
    "print(nums_list2)"
   ]
  },
  {
   "cell_type": "markdown",
   "metadata": {},
   "source": [
    "## Built-in practice: enumerate()\n",
    "Enumerate is useful for obtaining an indexed list.\n",
    "```\n",
    "names=['Jerry','Kramer','Elaine','George','Newman']\n",
    "```\n",
    "If wanted to attach an index representing a person's arrival order, could use the following for loop:\n",
    "\n",
    "```\n",
    "indexed_names =[]\n",
    "for i in range(len(names)):\n",
    "    index_name = (i, names[i])\n",
    "    indexed_names.append(index_name)\n",
    "\n",
    "[(0,'Jerry'),(1,'Kramer'),(2,'Elaine'),(3,'George'),(4,'Newman')]\n",
    "```\n",
    "#### Instructions\n",
    "- Instead of using ```for i in range(len(names))```, update the for loop to use ```i``` as the index variable and ```name``` as the iterator variable and use ```enumerate()```.\n",
    "- Rewrite the previous for loop using ```enumerate()``` and list comprehension to create a new list, ```indexed_names_comp```.\n",
    "- Create another list(```indexed_names_unpack```) by using the star character(```*```) to unpack the _enumerate object_ created from using ```enumerate()``` on ```names```. This time, __start the Index for__ ```enumerate()``` __at one Instead of zero__."
   ]
  },
  {
   "cell_type": "code",
   "execution_count": 7,
   "metadata": {},
   "outputs": [
    {
     "name": "stdout",
     "output_type": "stream",
     "text": [
      "[(0, 'Jerry'), (1, 'Kramer'), (2, 'Elaine'), (3, 'George'), (4, 'Newman')]\n",
      "[(0, 'Jerry'), (1, 'Kramer'), (2, 'Elaine'), (3, 'George'), (4, 'Newman')]\n",
      "[(1, 'Jerry'), (2, 'Kramer'), (3, 'Elaine'), (4, 'George'), (5, 'Newman')]\n"
     ]
    }
   ],
   "source": [
    "names = ['Jerry', 'Kramer', 'Elaine', 'George', 'Newman']\n",
    "\n",
    "# Rewrite the for loop to use enumerate\n",
    "indexed_names = []\n",
    "for i,name in enumerate(names):\n",
    "    index_name = (i,name)\n",
    "    indexed_names.append(index_name)\n",
    "print(indexed_names)\n",
    "\n",
    "# Rewrite the above for loop using list comprehension\n",
    "indexed_names_comp = [(i,name) for i,name in enumerate(names)]\n",
    "print(indexed_names_comp)\n",
    "\n",
    "# Unpack an enumerate object with a starting index of one\n",
    "indexed_names_unpack = [*enumerate(names,1)]\n",
    "print(indexed_names_unpack)"
   ]
  },
  {
   "cell_type": "code",
   "execution_count": 3,
   "metadata": {},
   "outputs": [
    {
     "name": "stdout",
     "output_type": "stream",
     "text": [
      "0 a\n",
      "1 b\n",
      "2 c\n",
      "3 d\n",
      "<class 'enumerate'>\n",
      "(0, 'a')\n",
      "<class 'tuple'>\n",
      "-------------------------\n",
      "     ITERATOR EXMPALE    \n",
      "(0, 'a')\n",
      "(1, 'b')\n",
      "(2, 'c')\n"
     ]
    }
   ],
   "source": [
    "# enumerate\n",
    "lst = ['a','b','c','d']\n",
    "for idx, value in enumerate(lst):\n",
    "  print(idx, value)\n",
    "\n",
    "print(type(enumerate(lst)))\n",
    "print(next(enumerate(lst)))\n",
    "print(type(next(enumerate(lst))))\n",
    "\n",
    "print('-------------------------')\n",
    "print('     ITERATOR EXMPALE    ')\n",
    "iterator = iter(enumerate(lst))\n",
    "print(next(iterator))\n",
    "print(next(iterator))\n",
    "print(next(iterator))"
   ]
  },
  {
   "cell_type": "markdown",
   "metadata": {},
   "source": [
    "## Built-in practice: map()\n",
    "\n",
    "Basic usage: map(function, iterable)\n",
    "\n",
    "#### Instructions\n",
    "- Use ```map()``` and the method ```str.upper()``` to convert each name in the list ```names``` to uppercase. Save this to the variable ```names_map```.\n",
    "- Print the data type of ```names_map```.\n",
    "- Unpack the contents of ```names_map``` into a list called ```names_uppercase``` using the star character(```*```)\n",
    "- Print ```names_uppercase``` and observe its contents."
   ]
  },
  {
   "cell_type": "code",
   "execution_count": 16,
   "metadata": {},
   "outputs": [
    {
     "name": "stdout",
     "output_type": "stream",
     "text": [
      "<class 'map'>\n",
      "['JERRY', 'KRAMER', 'ELAINE', 'GEORGE', 'NEWMAN']\n"
     ]
    }
   ],
   "source": [
    "names = ['Jerry', 'Kramer', 'Elaine', 'George', 'Newman']\n",
    "\n",
    "# Use map to apply str.upper to each element in names\n",
    "names_map = map(str.upper,names)\n",
    "\n",
    "# Print the type of the names_map\n",
    "print(type(names_map))\n",
    "\n",
    "# Unpack names_map into a list\n",
    "names_uppercase = [*names_map]\n",
    "\n",
    "# Print the list created above\n",
    "print(names_uppercase)"
   ]
  },
  {
   "cell_type": "code",
   "execution_count": 27,
   "metadata": {},
   "outputs": [
    {
     "name": "stdout",
     "output_type": "stream",
     "text": [
      "[10, 20, 30, 40, 50]\n",
      "[ 7 17 27 37 47]\n",
      "[('Jerry', 7), ('Kramer', 17), ('Elaine', 27), ('George', 37), ('Newman', 47)]\n"
     ]
    },
    {
     "ename": "TypeError",
     "evalue": "welcome_guest() missing 1 required positional argument: 'time'",
     "output_type": "error",
     "traceback": [
      "\u001b[1;31m---------------------------------------------------------------------------\u001b[0m",
      "\u001b[1;31mTypeError\u001b[0m                                 Traceback (most recent call last)",
      "\u001b[1;32mc:\\Users\\chany\\Desktop\\Study\\Study\\WritingEfficientPythonCode.ipynb Cell 7'\u001b[0m in \u001b[0;36m<cell line: 22>\u001b[1;34m()\u001b[0m\n\u001b[0;32m     <a href='vscode-notebook-cell:/c%3A/Users/chany/Desktop/Study/Study/WritingEfficientPythonCode.ipynb#ch0000007?line=18'>19</a>\u001b[0m \u001b[39m# Map the welcome_guest function to each (guest,time) pair\u001b[39;00m\n\u001b[0;32m     <a href='vscode-notebook-cell:/c%3A/Users/chany/Desktop/Study/Study/WritingEfficientPythonCode.ipynb#ch0000007?line=19'>20</a>\u001b[0m welcome_map \u001b[39m=\u001b[39m \u001b[39mmap\u001b[39m(welcome_guest, guest_arrivals)\n\u001b[1;32m---> <a href='vscode-notebook-cell:/c%3A/Users/chany/Desktop/Study/Study/WritingEfficientPythonCode.ipynb#ch0000007?line=21'>22</a>\u001b[0m guest_welcomes \u001b[39m=\u001b[39m [\u001b[39m*\u001b[39mwelcome_map]\n\u001b[0;32m     <a href='vscode-notebook-cell:/c%3A/Users/chany/Desktop/Study/Study/WritingEfficientPythonCode.ipynb#ch0000007?line=22'>23</a>\u001b[0m \u001b[39mprint\u001b[39m(\u001b[39m*\u001b[39mguest_welcomes, sep\u001b[39m=\u001b[39m\u001b[39m'\u001b[39m\u001b[39m\\n\u001b[39;00m\u001b[39m'\u001b[39m)\n",
      "\u001b[1;31mTypeError\u001b[0m: welcome_guest() missing 1 required positional argument: 'time'"
     ]
    }
   ],
   "source": [
    "import numpy as np\n",
    "names = ['Jerry', 'Kramer', 'Elaine', 'George', 'Newman']\n",
    "\n",
    "def welcome_guest(name, time):\n",
    "    return (\"Welcome to Festivus \" + name + \"... You're \" + time + \" min late.\")\n",
    "\n",
    "# Create a list of arrival times\n",
    "arrival_times = [*range(10,60,10)]\n",
    "print(arrival_times)\n",
    "\n",
    "# Convert arrival_times to an array and update the times\n",
    "arrival_times_np = np.array(arrival_times)\n",
    "new_times = arrival_times_np - 3\n",
    "print(new_times)\n",
    "\n",
    "# Use list comprehension and enumerate to pair guest to new times\n",
    "guest_arrivals = [(names[i],time) for i,time in enumerate(new_times)]\n",
    "print(guest_arrivals)\n",
    "\n",
    "# Map the welcome_guest function to each (guest,time) pair\n",
    "welcome_map = map(welcome_guest, guest_arrivals)\n",
    "\n",
    "guest_welcomes = [*welcome_map]\n",
    "print(*guest_welcomes, sep='\\n')"
   ]
  },
  {
   "cell_type": "markdown",
   "metadata": {},
   "source": [
    "## Runtime Check: %timeit\n",
    "![ReferenceTable](./image/ReferenceTable.png)"
   ]
  },
  {
   "cell_type": "code",
   "execution_count": 1,
   "metadata": {},
   "outputs": [
    {
     "name": "stdout",
     "output_type": "stream",
     "text": [
      "[0, 1, 2, 3, 4, 5, 6, 7, 8, 9, 10, 11, 12, 13, 14, 15, 16, 17, 18, 19, 20, 21, 22, 23, 24, 25, 26, 27, 28, 29, 30, 31, 32, 33, 34, 35, 36, 37, 38, 39, 40, 41, 42, 43, 44, 45, 46, 47, 48, 49, 50]\n",
      "[0, 1, 2, 3, 4, 5, 6, 7, 8, 9, 10, 11, 12, 13, 14, 15, 16, 17, 18, 19, 20, 21, 22, 23, 24, 25, 26, 27, 28, 29, 30, 31, 32, 33, 34, 35, 36, 37, 38, 39, 40, 41, 42, 43, 44, 45, 46, 47, 48, 49, 50]\n",
      "920 ns ± 8.45 ns per loop (mean ± std. dev. of 7 runs, 1,000,000 loops each)\n",
      "283 ns ± 5.07 ns per loop (mean ± std. dev. of 7 runs, 1,000,000 loops each)\n"
     ]
    }
   ],
   "source": [
    "# Create a list of integers (0-50) using list comprehension\n",
    "nums_list_comp = [num for num in range(51)]\n",
    "print(nums_list_comp)\n",
    "\n",
    "# Create a list of integers (0-50) by unpacking range\n",
    "nums_unpack = [*range(51)]\n",
    "print(nums_unpack)\n",
    "\n",
    "# Check runtime\n",
    "%timeit nums_list_comp = [num for num in range(51)]\n",
    "%timeit nums_unpack = [*range(51)]\n",
    "\n",
    "# Unpacking the range object was faster than list comprehension!"
   ]
  },
  {
   "cell_type": "markdown",
   "metadata": {},
   "source": [
    "## Using %timeit: specifying number of runs and loops\n",
    "![Using%timeit](./image/Using%25timeit.png)\n",
    "```\n",
    "%timeit -r5 -n25 function\n",
    "```\n",
    "**%timeit lets specify the number of runs and number of loops you want to consider with the -r and -n flags.**  \n",
    "**For example, it such as exercise. -n is "
   ]
  },
  {
   "cell_type": "markdown",
   "metadata": {},
   "source": [
    "## Using %timeit: formal name or literal syntax\n",
    "![Using%timeit2](./image/Using%25timeit2.png)"
   ]
  },
  {
   "cell_type": "code",
   "execution_count": 3,
   "metadata": {},
   "outputs": [
    {
     "name": "stdout",
     "output_type": "stream",
     "text": [
      "[]\n",
      "[]\n",
      "<class 'list'>\n",
      "<class 'list'>\n",
      "36 ns ± 0.439 ns per loop (mean ± std. dev. of 7 runs, 10,000,000 loops each)\n",
      "16.5 ns ± 0.182 ns per loop (mean ± std. dev. of 7 runs, 100,000,000 loops each)\n"
     ]
    }
   ],
   "source": [
    "# Create a list using the formal name\n",
    "formal_list = list()\n",
    "print(formal_list)\n",
    "\n",
    "# Create a list using the literal syntax\n",
    "literal_list = []\n",
    "print(literal_list)\n",
    "\n",
    "# Print out the type of formal_list\n",
    "print(type(formal_list))\n",
    "\n",
    "# Print out the type of literal_list\n",
    "print(type(literal_list))\n",
    "\n",
    "# Check runtime\n",
    "%timeit (list())\n",
    "%timeit ([])\n",
    "\n",
    "# literal syntax([]) to create a list is faster!"
   ]
  },
  {
   "cell_type": "markdown",
   "metadata": {},
   "source": [
    "## Using cell magic mode (%%timeit)\n",
    "![UsingCellMagicMode](./image/UsingCellMagicMode.png)\n",
    "\n",
    "\n",
    "\n",
    "Use ```%%timeit``` __In your IPython console__ to compare runtimes between these two approaches. Make sure to press ```SHIFT+ENTER``` after the magic command to add a new line before writing the code wish to time.\n",
    "\n",
    "\n",
    "\n",
    "![RuntimeCheck](./image/RuntimeCheck.png)\n",
    "\n",
    "\n",
    "\n",
    "**Numpy technique is faster than loop technique!**"
   ]
  },
  {
   "cell_type": "markdown",
   "metadata": {},
   "source": [
    "## Code Profiling"
   ]
  },
  {
   "cell_type": "markdown",
   "metadata": {},
   "source": [
    "### Using %lprun: spot bottlenecks\n",
    "![RuntimeCheck%lprun](./image/RuntimeCheck%25lprun.png)\n",
    "\n",
    "\n",
    "%timeit is nice tool to check total runtime. However, If want to check runtime that line by line, it is not efficient.\n",
    "\n",
    "%lprun in line_profiler library is more efficient in this case.\n",
    "\n",
    "Basic usage\n",
    "\n",
    "```\n",
    "%load_ext line_profiler\n",
    "%lprun -[option] [functionName] [function(arg)]\n",
    "```"
   ]
  },
  {
   "cell_type": "markdown",
   "metadata": {},
   "source": [
    "### Using %lprun: fix the bottleneck\n",
    "![RuntimeCheck%lprun2](./image/RuntimeCheck%25lprun2.png)"
   ]
  },
  {
   "cell_type": "markdown",
   "metadata": {},
   "source": [
    "### Using %mprun\n",
    "![MemoryCheck%mprun](./image/MemoryCheck%25mprun.png)\n",
    "\n",
    "\n",
    "Basic usage\n",
    "```\n",
    "%load_ext memory_proflier\n",
    "from [file] import [function]\n",
    "%mprun -[option] [name] [function(arg)]\n",
    "```\n",
    "\n",
    "![MemoryCheck%mprun2](./image/MemoryCheck%25mprun2.png)"
   ]
  },
  {
   "cell_type": "markdown",
   "metadata": {},
   "source": [
    "## Combine list : zip\n",
    "\n",
    "Make an iterator that aggregates elements from each of the iterables.\n",
    "\n",
    "Returns an iterator of tuples, where the i-th tuple contains the i-th element from each of the argument sequences or iterables. The iterator stops when the shortest input iterable is exhausted. With a single iterable argument, it returns an iterator of 1-tuples. With no arguments, it returns an empty iterator\n",
    "\n",
    "\n",
    "Basic Usage\n",
    "\n",
    "```\n",
    "zip(iterable...)\n",
    "```"
   ]
  },
  {
   "cell_type": "code",
   "execution_count": 12,
   "metadata": {},
   "outputs": [
    {
     "name": "stdout",
     "output_type": "stream",
     "text": [
      "To test that it is really an iterator 1: ('Angie', 90, 95)\n",
      "To test that it is really an iterator 2: ('Brian', 82, 84)\n",
      "name is Cassie, exam 1 is 79, exam 2 is 72\n"
     ]
    }
   ],
   "source": [
    "names = [\"Angie\", \"Brian\", \"Cassie\"]\n",
    "exam_1_scores = [90, 82, 79, 87]\n",
    "exam_2_scores = [95, 84, 72, 91,100]\n",
    "zipp = zip(names, exam_1_scores, exam_2_scores)\n",
    "# for i in zipp:\n",
    "#   print(i)\n",
    "#   print(type(i))\n",
    "# print(type(zipp))\n",
    "# print('-------------')\n",
    "print('To test that it is really an iterator 1:', next(zipp))\n",
    "print('To test that it is really an iterator 2:', next(zipp))\n",
    "\n",
    "for x,y,z in zipp:\n",
    "  name, exam1, exam2 = x, y, z\n",
    "  print('name is {0}, exam 1 is {1}, exam 2 is {2}'.format(name,exam1,exam2))\n",
    "# Notice how only the third element is printed --> because it's an ITERATOR !"
   ]
  },
  {
   "cell_type": "markdown",
   "metadata": {},
   "source": [
    "zip() in conjunction with the * operator can be used to unzip a list:"
   ]
  },
  {
   "cell_type": "code",
   "execution_count": 11,
   "metadata": {},
   "outputs": [
    {
     "data": {
      "text/plain": [
       "True"
      ]
     },
     "execution_count": 11,
     "metadata": {},
     "output_type": "execute_result"
    }
   ],
   "source": [
    "x = [1, 2, 3]\n",
    "y = [4, 5, 6]\n",
    "zipped = zip(x, y)\n",
    "# list(zipped)\n",
    "# [(1, 4), (2, 5), (3, 6)]\n",
    "x2, y2 = zip(*zip(x, y))\n",
    "x == list(x2) and y == list(y2)\n",
    "# True"
   ]
  },
  {
   "cell_type": "markdown",
   "metadata": {},
   "source": [
    "## Counter\n",
    "\n",
    "Counter takes iterable and return a **Counter Dictionary**.\n",
    "\n",
    "Basic Usage\n",
    "\n",
    "```\n",
    "Counter(iterable)\n",
    "```"
   ]
  },
  {
   "cell_type": "code",
   "execution_count": 3,
   "metadata": {},
   "outputs": [
    {
     "name": "stdout",
     "output_type": "stream",
     "text": [
      "Counter({'a': 2, 'l': 2, 'b': 1, 'd': 1})\n",
      "<class 'collections.Counter'>\n",
      "Counter({'b': 2, 'a': 1})\n",
      "Counter({'b': 3, 'a': 2, 'c': 1})\n",
      "Two most common elements: [('b', 3), ('a', 2)]\n",
      "subtract: Counter({'b': 2, 'a': 1, 'c': 0})\n",
      "update: Counter({'b': 3, 'a': 2, 'c': 1})\n"
     ]
    }
   ],
   "source": [
    "from collections import Counter\n",
    "\n",
    "c = Counter('ballad')\n",
    "print(c)\n",
    "print(type(c))\n",
    "c = Counter({'a':1,'b':2})\n",
    "print(c)\n",
    "c = Counter(['a','a','b','b','b','c'])\n",
    "print(c)\n",
    "\n",
    "# most_common function gives 'n' number of most common elements\n",
    "print('Two most common elements:', c.most_common(2))\n",
    "\n",
    "# subtract and update\n",
    "d = ['a','b','c']\n",
    "c.subtract(d)\n",
    "print(f'subtract: {c}')\n",
    "c.update(d)\n",
    "print(f'update: {c}')"
   ]
  },
  {
   "cell_type": "markdown",
   "metadata": {},
   "source": [
    "## Set theory\n",
    "\n",
    "- Branch of Mathematics applied to collections of objects\n",
    "    - i.e., `sets`\n",
    "- Python has built-in `set` datatype with accompanying methods:\n",
    "    - `intersection()` : all elements that are in both sets\n",
    "    - `difference()` : all elements in one set but not the other\n",
    "    - `symmetric_difference()` : all elements in exactly one set\n",
    "    - `union()` : all elements that are in either set\n",
    "- Fast membership testing\n",
    "    - Check if a value exists in a sequence or not\n",
    "    - Using the `in` operator\n",
    "\n",
    "### Usage\n",
    "- Intersection\n",
    "\n",
    "    [set1].intersection([set2])\n",
    "- Difference\n",
    "\n",
    "    [set1].difference([set2]) or [set2].difference([set1])\n",
    "- Symmetric difference\n",
    "\n",
    "    [set1].symmetric_difference([set2])\n",
    "- Union\n",
    "\n",
    "    [set1].union([set2])"
   ]
  },
  {
   "cell_type": "markdown",
   "metadata": {},
   "source": [
    "## Eliminating loops\n",
    "```\n",
    "# List of HP, Attack, Defense, Spped\n",
    "poke_stats = [\n",
    "    [10,13,15,17],\n",
    "    [9,11,16,14],\n",
    "    ...\n",
    "]\n",
    "\n",
    "# For loop approach\n",
    "totals = []\n",
    "for row in poke_stats:\n",
    "    totals.append(sum(row))\n",
    "\n",
    "# List comprehension\n",
    "totals_comp = [sum(row) for row in poke_stats]\n",
    "\n",
    "# Built-in map() function\n",
    "totals_comp = [*map(sum, poke_stats)]\n",
    "```"
   ]
  },
  {
   "cell_type": "markdown",
   "metadata": {},
   "source": [
    "## Context Manager\n",
    "\n",
    "How to create a context manager\n",
    "\n",
    "```\n",
    "with <context-manager>(<args>) as <variable-name>:\n",
    "    # this code is running \"inside the context\"\n",
    "```\n",
    "\n",
    "- 'with' statement is another type of compound statement (like 'if/else', 'for-loop', function definitions, etc. that have indented block after them)\n",
    "- By adding 'as' and a variable name at the end, you can assign the returned value to the variable name.\n",
    "- If you see following patterns, you might consider using a context manager\n",
    "  - open/close\n",
    "  - lock/release\n",
    "  - enter/exit\n",
    "  - start/stop\n",
    "  - setup/teardown\n",
    "  - connect/disconnect\n",
    "  \n",
    "Writing context managers (Function-based):\n",
    "\n",
    "1. Define a function\n",
    "2. (Optional) Add any set up code your context needs\n",
    "3. Use the \"yield\" keyword\n",
    "4. (Optional) Add any teardown code your context needs\n",
    "5. Add the `@contextlib.contextmanager` decorator right above your context manager function\n",
    "\n",
    "```\n",
    "with open('my_file.txt') as my_file:\n",
    "    text = my_file.read()\n",
    "    length = len(text)\n",
    "\n",
    "print('The file is {} characters long'.format(length))\n",
    "```\n",
    "\n",
    "`open()` does the following:\n",
    "- Sets up a context by opening a file\n",
    "- Lets you run any code you want on that file\n",
    "- Removes the context by closing the file\n",
    "- Saves returned value to the variable, my_file\n",
    "\n",
    "### Yield\n",
    "- You're going to return a value, but expect to finish the rest of the function at some point in the future.\n",
    "- The value that your context manager yields can be assigned to a variable in the 'with' statement after 'as'.\n",
    "- `Yield` is used in contextmanager function because **context manager function is technically a generator that yields a single value**\n",
    "\n",
    "### Nested Contexts\n",
    "- Say, you're copying contents from one file to another.\n",
    "    - One way is, you open one context manager to read from source file and then store it in a variable, and use another context manager to paste in the content in the destination file\n",
    "    - But, you might *run out of memory* when content is too big\n",
    "    - In this case, you can use a nested context\n",
    "\n",
    "```\n",
    "def copy(src, dst):\n",
    "    with open(src) as f_src:\n",
    "        with open(dst, 'w') as f_dst:\n",
    "            for line in f_src:\n",
    "                f_dst.write(line)\n",
    "```\n",
    "\n",
    "### Error handling\n"
   ]
  },
  {
   "cell_type": "code",
   "execution_count": 3,
   "metadata": {},
   "outputs": [
    {
     "name": "stdout",
     "output_type": "stream",
     "text": [
      "This should take approximately 0.25 seconds\n",
      "Elapsed: 0.25s\n"
     ]
    }
   ],
   "source": [
    "import contextlib, time\n",
    "\n",
    "# Add a decorator that will make timer() a context manager\n",
    "@contextlib.contextmanager\n",
    "def timer():\n",
    "    \"\"\"Time the execution of a context block.\n",
    "    \n",
    "    Yields:\n",
    "        None\n",
    "    \"\"\"\n",
    "    \n",
    "    # The setup code\n",
    "    start = time.time()\n",
    "    # Send control back to the context block\n",
    "    yield\n",
    "    # The teardown code : the following lines runs at the end of the with block\n",
    "    end = time.time()\n",
    "    print('Elapsed: {:.2f}s'.format(end - start))\n",
    "    \n",
    "with timer():\n",
    "    print('This should take approximately 0.25 seconds')\n",
    "    time.sleep(0.25)"
   ]
  },
  {
   "cell_type": "markdown",
   "metadata": {},
   "source": [
    "## First Class Citizens\n",
    "- An entity has to have 3 properties:\n",
    "1. "
   ]
  },
  {
   "cell_type": "markdown",
   "metadata": {},
   "source": [
    "## Decorators and metadata\n",
    "\n",
    "- One of the problems with decorators is that they obscure the decorated function’s metadata.\n",
    "- One of the way to solve this problem, we can use wraps.\n",
    "- To use wraps, have to define it.\n",
    "    - from functools import wraps"
   ]
  },
  {
   "cell_type": "code",
   "execution_count": 6,
   "metadata": {},
   "outputs": [
    {
     "name": "stdout",
     "output_type": "stream",
     "text": [
      "Pause Processing for n seconds.\n",
      "\n",
      "    Args:\n",
      "        n (int): The number of seconds to pause for.\n",
      "    \n",
      "sleep_n_seconds\n",
      "None\n",
      "<function sleep_n_seconds at 0x1062da820>\n"
     ]
    }
   ],
   "source": [
    "from functools import wraps\n",
    "import time\n",
    "\n",
    "def timer(func):\n",
    "    \"\"\"A decorator that prints how long a function took to run\"\"\"\n",
    "\n",
    "    @wraps(func)\n",
    "    def wrapper(*args, **kwargs):\n",
    "        t_start = time.time()\n",
    "        result = func(*args, **kwargs)\n",
    "        t_total = time.time() -  t_start\n",
    "        print('{} took {}s'.format(func.__name__, t_total))\n",
    "        return result\n",
    "    return wrapper\n",
    "\n",
    "@timer\n",
    "def sleep_n_seconds(n=10):\n",
    "    \"\"\"Pause Processing for n seconds.\n",
    "\n",
    "    Args:\n",
    "        n (int): The number of seconds to pause for.\n",
    "    \"\"\"\n",
    "    time.sleep(n)\n",
    "\n",
    "# Notice how values below\n",
    "print(sleep_n_seconds.__doc__)\n",
    "print(sleep_n_seconds.__name__)\n",
    "print(sleep_n_seconds.__defaults__)\n",
    "print(sleep_n_seconds.__wrapped__)"
   ]
  },
  {
   "cell_type": "code",
   "execution_count": 12,
   "metadata": {},
   "outputs": [
    {
     "name": "stdout",
     "output_type": "stream",
     "text": [
      "['3', '0']\n"
     ]
    }
   ],
   "source": [
    "def stringify(number):\n",
    "    string = str(number)\n",
    "    string = list(string)\n",
    "    return string\n",
    "print(stringify(30))"
   ]
  },
  {
   "cell_type": "markdown",
   "metadata": {},
   "source": [
    "### Decorator factory\n",
    "\n",
    "- Decorators that takes arguments\n",
    "    - Decorator itself cannot take any arguments : it takes in a function as input and returns a wrapper function. So, you need a decorator factory that takes in arguments you'd like and returns a decorator.\n",
    "- A callable that produces the actual decorator. It is used to make it possible to 'configure' a decorator."
   ]
  },
  {
   "cell_type": "code",
   "execution_count": 6,
   "metadata": {},
   "outputs": [
    {
     "name": "stdout",
     "output_type": "stream",
     "text": [
      "8\n",
      "8\n",
      "8\n",
      "-----------------------\n",
      "8\n",
      "8\n",
      "8\n"
     ]
    }
   ],
   "source": [
    "# Decorator factory example\n",
    "\n",
    "def run_n_times(n):\n",
    "    \"\"\"Define and return a decorator\"\"\"\n",
    "    def decorator(func):\n",
    "        def wrapper(*args, **kwargs):\n",
    "            for i in range(n):\n",
    "                func(*args, **kwargs)\n",
    "        return wrapper\n",
    "    return decorator\n",
    "\n",
    "run_three_time = run_n_times(3) # Returns a decorator (that runs 3 times)\n",
    "\n",
    "@run_three_time\n",
    "def print_sum(a, b):\n",
    "    print(a + b)\n",
    "    \n",
    "print_sum(3, 5)\n",
    "print('-----------------------')\n",
    "\n",
    "@run_n_times(3)\n",
    "def print_sum(a, b):\n",
    "    print(a + b)\n",
    "    \n",
    "print_sum(3, 5)"
   ]
  },
  {
   "cell_type": "code",
   "execution_count": 2,
   "metadata": {},
   "outputs": [],
   "source": [
    "# Decorator Factory Real World Example : Timeout()\n",
    "from functools import wraps\n",
    "import time\n",
    "import signal\n",
    "def raise_timeout(*args, **kwargs):\n",
    "    raise TimeoutError()\n",
    "signal.signal(signalnum=signal.SIGALRM, handler=raise_timeout)\n",
    "\n",
    "def timeout(n_seconds):\n",
    "    def decorator(func):\n",
    "        @wraps(func)\n",
    "        def wrapper(*args, **kwargs):\n",
    "            signal.alarm(n_seconds)\n",
    "            try:\n",
    "                return func(*args, **kwargs)\n",
    "            finally:\n",
    "                signal.alarm(0)\n",
    "        return wrapper\n",
    "    return decorator\n",
    "\n",
    "@timeout(5)\n",
    "def foo():\n",
    "    time.sleep(10)\n",
    "    print('foo!')\n",
    "    \n",
    "@timeout(10)\n",
    "def bar():\n",
    "    time.sleep(5)\n",
    "    print('bar!')"
   ]
  }
 ],
 "metadata": {
  "kernelspec": {
   "display_name": "Python 3.9.6 64-bit",
   "language": "python",
   "name": "python3"
  },
  "language_info": {
   "codemirror_mode": {
    "name": "ipython",
    "version": 3
   },
   "file_extension": ".py",
   "mimetype": "text/x-python",
   "name": "python",
   "nbconvert_exporter": "python",
   "pygments_lexer": "ipython3",
   "version": "3.9.6"
  },
  "orig_nbformat": 4,
  "vscode": {
   "interpreter": {
    "hash": "31f2aee4e71d21fbe5cf8b01ff0e069b9275f58929596ceb00d14d90e3e16cd6"
   }
  }
 },
 "nbformat": 4,
 "nbformat_minor": 2
}
