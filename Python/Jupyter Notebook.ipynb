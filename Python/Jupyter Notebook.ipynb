{
 "cells": [
  {
   "cell_type": "code",
   "execution_count": 2,
   "metadata": {},
   "outputs": [
    {
     "data": {
      "text/plain": [
       "[0, 1, 2, 3, 4, 5, 6, 7, 8, 9]"
      ]
     },
     "execution_count": 2,
     "metadata": {},
     "output_type": "execute_result"
    }
   ],
   "source": [
    "def quickSort(array):\n",
    "    quickSortHelper(array, 0, len(array)-1)\n",
    "    return array\n",
    "\n",
    "def quickSortHelper(array, start, end):\n",
    "    if start > end: # if array have just one data, then quit\n",
    "        return\n",
    "    pivot = start # Fix the first index pivot\n",
    "    left = start + 1 # left is the data next to pivot\n",
    "    right = end # right is the last data in array\n",
    "    while left <= right: # Iterate until left reach to right\n",
    "        if array[left] > array[pivot] and array[pivot] > array[right]: # in this process I have to compare between pivot and left/right. In each steps, swat the left data and right data under condition where the left and right cannot be moved.\n",
    "            array[left], array[right] = array[right], array[left]\n",
    "        if array[left] <= array[pivot]: # left is must smaller than pivot(include same case)\n",
    "            left += 1\n",
    "        if array[pivot] <= array[right]: # right is must bigger than pivot(include same case)\n",
    "            right -= 1\n",
    "    array[pivot], array[right] = array[right], array[pivot] # after Iterate, swap the pivot data with right.\n",
    "    leftSmall = pivot - 1 - start < end - (pivot + 1) # quick sort is divided based on pivot due to the characteristic of algorithm. Before this process, pivot found right position after 1 circle of iteration. For now, I can be divided array based on pivot. In this process, I can compare between leftside of pivot and rightside of pivot. Then why am I doing this? The reason why, It's more faster to deal with small things first. After done 1 circle, array is explained like this [left] [pivot] [right]. In the left array, start is start but end is pivot -1, and in the right array, end is end but start is pivot + 1.\n",
    "    if leftSmall:\n",
    "        quickSortHelper(array, start, right - 1)\n",
    "        quickSortHelper(array, right + 1, end)\n",
    "    else:\n",
    "        quickSortHelper(array, right + 1, end)\n",
    "        quickSortHelper(array, start, right - 1)        \n",
    "array = [7, 5, 9, 0, 3, 1, 6, 2, 4, 8]\n",
    "quickSort(array)"
   ]
  },
  {
   "cell_type": "code",
   "execution_count": null,
   "metadata": {},
   "outputs": [],
   "source": [
    "def mergeSort(array):\n",
    "    if len(array) <= 1:\n",
    "        return array\n",
    "    auxiliaryArray = array[:]\n",
    "    mergeSortHelper(array, 0, len(array)-1, auxiliaryArray)\n",
    "    return array\n",
    "\n",
    "def mergeSortHelper(ordered, startIdx, endIdx, unordered):\n",
    "    if startIdx == endIdx:\n",
    "        return\n",
    "    middleIdx = (startIdx + endIdx) // 2\n",
    "    mergeSortHelper(unordered, startIdx, middleIdx, ordered)\n",
    "    mergeSortHelper(unordered, middleIdx+1, endIdx, ordered)\n",
    "    doMerge(ordered, startIdx, middleIdx, endIdx, unordered)\n",
    "\n",
    "def doMerge(ordered, startIdx, middleIdx, endIdx, unordered):\n",
    "    k = startIdx\n",
    "    i = startIdx\n",
    "    j = middleIdx + 1\n",
    "    while i <= middleIdx and j <= endIdx:\n",
    "        if unordered[i] <= unordered[j]:\n",
    "            ordered[k] = unordered[i]\n",
    "            i += 1\n",
    "        else:\n",
    "             ordered[k] = unordered[j]\n",
    "             j += 1\n",
    "        k += 1\n",
    "    while i <= middleIdx:\n",
    "        ordered[k] = unordered[i]\n",
    "        i += 1\n",
    "        k += 1\n",
    "    while j <= endIdx:\n",
    "        ordered[k] = unordered[j]\n",
    "        j += 1\n",
    "        k += 1"
   ]
  },
  {
   "cell_type": "code",
   "execution_count": null,
   "metadata": {},
   "outputs": [],
   "source": [
    "def heapSort(array):\n",
    "    buildHeap(array)\n",
    "    for end in reversed(range(1, len(array))):\n",
    "        array[0], array[end] = array[end], array[0]\n",
    "        siftDown(0, end-1, array)\n",
    "    return array\n",
    "    \n",
    "def buildHeap(array):\n",
    "    lastParent = (len(array)-2)//2\n",
    "    for i in reversed(range(lastParent+1)):\n",
    "        siftDown(i, len(array)-1, array)\n",
    "\n",
    "def siftDown(current, end, heap):\n",
    "    childOne = (current*2)+1\n",
    "    while childOne <= end:\n",
    "        childTwo = childOne + 1 if childOne + 1 <= end else -1\n",
    "        if childTwo != -1 and heap[childOne] < heap[childTwo]:\n",
    "            swap = childTwo\n",
    "        else:\n",
    "            swap = childOne\n",
    "        if heap[swap] > heap[current]:\n",
    "            heap[swap], heap[current] = heap[current], heap[swap]\n",
    "            current = swap\n",
    "            childOne = current*2+1\n",
    "        else:\n",
    "            return"
   ]
  },
  {
   "cell_type": "code",
   "execution_count": null,
   "metadata": {},
   "outputs": [],
   "source": [
    "# def a(input1, input2):\n",
    "#     count = 0\n",
    "#     while input1 > 1:\n",
    "#         if input1 % input2 == 0:\n",
    "#             input1 = input1 // input2\n",
    "#         else:\n",
    "#             input1 -= 1\n",
    "#         count += 1\n",
    "#     return count\n",
    "\n",
    "def b(n,k):\n",
    "    count = 0\n",
    "    while n != 1:\n",
    "        count += (n%k)\n",
    "        n //= k\n",
    "        count += 1\n",
    "    return count\n",
    "\n",
    "n, k = map(int, input().split())\n",
    "b(n,k)"
   ]
  },
  {
   "cell_type": "code",
   "execution_count": null,
   "metadata": {},
   "outputs": [],
   "source": [
    "# 똥멍청이\n",
    "def functionName(S):\n",
    "    answer = 0\n",
    "    for str1 in S:\n",
    "        str1 = int(str1)\n",
    "        if str1 != 0:\n",
    "            answer *= str1\n",
    "        else:\n",
    "            answer += str1\n",
    "    return answer\n",
    "functionName('02984')\n",
    "# 02984 576\n",
    "# 567 210"
   ]
  },
  {
   "cell_type": "code",
   "execution_count": null,
   "metadata": {},
   "outputs": [],
   "source": [
    "def functionName(s):\n",
    "    answer = int(s[0])\n",
    "    for i in range(1, len(s)):\n",
    "        newNum = int(s[i])\n",
    "        if answer <= 1 or newNum <= 1:\n",
    "            answer += newNum\n",
    "        else:\n",
    "            answer *= newNum\n",
    "    return answer\n",
    "functionName('567')"
   ]
  },
  {
   "cell_type": "code",
   "execution_count": null,
   "metadata": {},
   "outputs": [],
   "source": [
    "def funcA(n,arr):\n",
    "    newArr = sorted(arr,reverse=True)\n",
    "    idx =0\n",
    "    count = 0\n",
    "    while idx < len(newArr):\n",
    "        idx += arr[idx]\n",
    "        count += 1\n",
    "    return count\n",
    "\n",
    "n = map(int, input()) # 인원수\n",
    "arr = list(map(int, input().split())) # 공포도\n",
    "# print(arr)\n",
    "funcA(n,arr)"
   ]
  },
  {
   "cell_type": "code",
   "execution_count": null,
   "metadata": {},
   "outputs": [],
   "source": [
    "# 여행가 A는 N x N 크기의 정사각형 공간 위에 서 있습니다. 이 공간은 1 X 1 크기의 정사각형으로 나누어져 있습니다. 가장 왼쪽 위 좌표는 (1, 1)이며, 가장 오른쪽 아래 좌표는 (N, N)에 해당합니다. 여행가 A는 상,하,좌,우 방향으로 이동할 수 있으며, 시작 좌표는 항상 (1, 1)입니다. 우리 앞에는 여행가 A가 이동할 계획이 적힌 계획서가 놓여있습니다.\n",
    "# 계획서에는 하나의 줄에 띄어쓰기를 기준으로 하여 L, R, U, D 중 하나의 문자가 반복적으로 적혀 있습니다. 각 문자의 의미는 다음과 같습니다 L: 왼쪽으로 한 칸 이동, R: 오른쪽으로 한 칸 이동, U: 위로 한 칸 이동, D: 아래로 한 칸 이동\n",
    "def func(line, steps):\n",
    "    x, y = [1, 1]\n",
    "    direction = { 'R': [0, 1], 'L': [0, -1], 'U': [-1, 0], 'D': [1, 0] }\n",
    "    for step in steps:\n",
    "        nx, ny = x+direction[step][0], y+direction[step][1]\n",
    "        if nx > line or ny > line or nx == 0 or ny == 0:\n",
    "            continue\n",
    "        x,y = nx, ny\n",
    "    return [x, y]\n",
    "line = map(int, input())\n",
    "steps = list(map(str, input().split(',')))\n",
    "func(line, steps)"
   ]
  },
  {
   "cell_type": "code",
   "execution_count": null,
   "metadata": {},
   "outputs": [],
   "source": [
    "def func(h):\n",
    "    count = 0\n",
    "    for i in range(h+1):\n",
    "        for j in range(60):\n",
    "            for k in range(60):\n",
    "                if '3' in str(i)+str(j)+str(k):\n",
    "                    # print(str(i)+str(j)+str(k))\n",
    "                    count += 1\n",
    "    return count\n",
    "func(5)"
   ]
  },
  {
   "cell_type": "code",
   "execution_count": null,
   "metadata": {},
   "outputs": [],
   "source": [
    "# 8x8 좌표 평면상에서 나이트의 위치가 주어졌을 때 나이트가 이동할 수 있는 경우의 수를 출력하는 프로그램을 작성하세요. 왕실의 정원에서 행위치를 표현할 때는 1부터 8로 표현하며 열 위치를 표현할 때는 a부터 h로 표현합니다. 수직 2 수평 1 or 수평 1 수직 2\n",
    "# c2에서 이동할 수 있는 경우의 수는 6가지입니다.\n",
    "def func(p):\n",
    "    col, row = p[0], int(p[1])\n",
    "    col = ord(col) - ord('a') + 1\n",
    "    # print(col,row)\n",
    "    count = 0\n",
    "    direction = [[-2,-1], [-2,1], [2,-1], [2,1], [-1,-2], [-1, 2], [1, -2], [1, 2]]\n",
    "    for i in direction:\n",
    "        newCol, newRow = col + i[0], row + i[1]\n",
    "        if newCol >= 1 and newCol <= 8 and newRow >= 1 and newRow <= 8:\n",
    "            count += 1\n",
    "    return count\n",
    "func('c2')"
   ]
  },
  {
   "cell_type": "code",
   "execution_count": null,
   "metadata": {},
   "outputs": [],
   "source": [
    "# 알파벳 대문자와 숫자(0-9)로만 구성된 문자열이 입력으로 주어집니다. 이때 모든 알파벳을 오름차순으로 정렬하여 이어서 출력한 뒤에, 그 뒤에 모든 숫자를 더한 값을 이어서 출력합니다.\n",
    "# 예를 들어 K1KA5CB7이라는 값이 들어오면 ABCKK13을 출력합니다.\n",
    "def func(string):\n",
    "    result = []\n",
    "    result1 = 0\n",
    "    for i in string:\n",
    "        if ord(i) >= ord('A') and ord(i) <= ord('Z'): # if i.isalpha():\n",
    "            result.append(i)\n",
    "        else:\n",
    "            result1 += int(i)\n",
    "    result.sort()\n",
    "    newStr = \"\".join(result)\n",
    "    # if result1 == 0:\n",
    "    #     return newStr\n",
    "    # else:\n",
    "    #     return newStr + str(result1)\n",
    "\n",
    "    return newStr+str(result1) if result1 != 0 else newStr\n",
    "\n",
    "\n",
    "\n",
    "func('K1KA5CB7')"
   ]
  },
  {
   "cell_type": "code",
   "execution_count": null,
   "metadata": {},
   "outputs": [],
   "source": [
    "class Node:\n",
    "    def __init__(self,name):\n",
    "        self.children = []\n",
    "        self.name = name\n",
    "\n",
    "    def addchild(self, name):\n",
    "        self.children.append(Node(name))\n",
    "        return self\n",
    "\n",
    "    def depthFirstSearch(self, array):\n",
    "        array.append(self.name)\n",
    "        for child in self.children:\n",
    "            child.depthFirstSearch(array)\n",
    "        return array"
   ]
  },
  {
   "cell_type": "code",
   "execution_count": null,
   "metadata": {},
   "outputs": [],
   "source": [
    "class Node:\n",
    "    def __init__(self,name):\n",
    "        self.children = []\n",
    "        self.name = name\n",
    "\n",
    "    def addchild(self, name):\n",
    "        self.children.append(Node(name))\n",
    "        return self\n",
    "\n",
    "    def depthFirstSearch(self, array):\n",
    "        visited = set()\n",
    "        self.helper(visited, array) # [A], [A]\n",
    "        return array\n",
    "\n",
    "    def helper(self, visited, array):\n",
    "        if self not in visited:\n",
    "            visited.add(self)\n",
    "            array.append(self.name)\n",
    "            for child in self.children:\n",
    "                child.helper(visited,array)\n",
    "\n"
   ]
  },
  {
   "cell_type": "code",
   "execution_count": null,
   "metadata": {},
   "outputs": [],
   "source": [
    "# 입력조건: 첫째 줄에 두 정수 N,M(4<=N, M<=200)이 주어집니다. 다음 N개의 줄에는 각각 M개의 정수 (0 혹은 1)로 미로의 정보가 주어집니다. 각각의 수들은 공백 없이 붙어서 입력으로 제시됩니다. 또한 시작 칸과 마지막 칸은 항상 1입니다.\n",
    "# 출력조건: 첫째 줄에 최소 이동 칸의 개수를 출력합니다.\n",
    "# 동빈이는 N x M 크기의 직사각형 형태의 미로에 갇혔습니다. 미로에는 여러 마리의 괴물이 있어 이를 피해 탈출해야 합니다\n",
    "# 동빈이의 위치는 (1,1)이며 미로의 출구는 (N,M)의 위치에 존재하며 한 번에 한 칸씩 이동할 수 있습니다. 이때 괴물이 있는 부분은 0으로, 괴물이 없는 부분은 1로 표시되어 있습니다. 미로는 반드시 탈출할 수 있는 형태로 제시됩니다.\n",
    "# 이때 동빈이가 탈출하기 위해 움직여야 하는 최소 칸의 개수를 구하세요. 칸을 셀 때는 시작 칸과 마지막 칸을 모두 포함해서 계산합니다.\n",
    "\n",
    "# psuedo:\n",
    "# Path finder algorithm \n",
    "def escapeLabyrinth(matrix):\n",
    "    return findMinPath(0, 0, 0, matrix)\n",
    "\n",
    "def findMinPath(row, col, path, matrix):\n",
    "    if row < 0 or row >= len(matrix) or col < 0 or col >= len(matrix[0]):\n",
    "        return False\n",
    "    if matrix[row][col] == 0:\n",
    "        return False\n",
    "    matrix[row][col] = 0\n",
    "    path += 1\n",
    "    if row == len(matrix)-1 and col == len(matrix[0])-1:\n",
    "        return path\n",
    "    \n",
    "    path1 = findMinPath(row+1, col, path, matrix)\n",
    "    path2 = findMinPath(row-1, col, path, matrix)\n",
    "    path3 = findMinPath(row, col+1, path, matrix)\n",
    "    path4 = findMinPath(row, col-1, path, matrix)\n",
    "    \n",
    "    path1 = path1 if path1 is not None else 200\n",
    "    path2 = path2 if path2 is not None else 200\n",
    "    path3 = path3 if path3 is not None else 200\n",
    "    path4 = path4 if path4 is not None else 200\n",
    "    return min(path1, path2, path3, path4)\n",
    "\n",
    "matrix = [\n",
    "    [1,0,1,0,1,0],\n",
    "    [1,1,1,1,1,1],\n",
    "    [0,0,0,0,0,1],\n",
    "    [1,1,1,1,1,1],\n",
    "    [1,1,1,1,1,1]\n",
    "]\n",
    "escapeLabyrinth(matrix)\n",
    "# 입력 예시\n",
    "# 5 6\n",
    "# 101010\n",
    "# 111111\n",
    "# 000001\n",
    "# 111111\n",
    "# 111111\n",
    "# 출력예시\n",
    "# 10"
   ]
  },
  {
   "cell_type": "code",
   "execution_count": null,
   "metadata": {},
   "outputs": [],
   "source": [
    "from collections import deque\n",
    "\n",
    "# N, M을 공백을 기준으로 구분하여 입력받기\n",
    "# n, m = map(int, input().split())\n",
    "# 2차원 리스트의 맵 정보 입력받기\n",
    "graph = []\n",
    "for i in range(n):\n",
    "    graph.append(list(map(int, input())))\n",
    "\n",
    "# 이동할 네 가지 방향 정의 (상, 하, 좌, 우)\n",
    "dx = [-1, 1, 0, 0]\n",
    "dy = [0, 0, -1, 1]\n",
    "\n",
    "# BPS 소스코드 구현\n",
    "def escapeLabyrinth(matrix):\n",
    "    # 큐(QUEUE) 구현을 위해 deque 라이브러리 사용\n",
    "    queue = deque(([0,0]))\n",
    "    # 큐가 빌 때까지 반복하기\n",
    "    # import pdb; pdb.set_trace()\n",
    "    while queue:\n",
    "        x, y = queue.popleft()\n",
    "        # 현재 위치에서 4가지 방향으로의 위치 확인\n",
    "        for i in range(4):\n",
    "            nx = x + dx[i]\n",
    "            ny = y + dy[i]\n",
    "            # 미로 찾기 공간을 벗어난 경우 무시\n",
    "            if nx < 0 or nx >= len(matrix) or ny < 0 or ny >= len(matrix[0]):\n",
    "                continue\n",
    "            # 몬스터를 만난 경우 무시\n",
    "            if matrix[nx][ny] == 0:\n",
    "                continue\n",
    "            # 해당 노드를 처음 방문하는 경우에만 최단 거리 기록\n",
    "            if matrix[nx][ny] == 1:\n",
    "                matrix[nx][ny] = matrix[x][y] + 1\n",
    "                queue.append((nx, ny))\n",
    "    # 가장 오른쪽 아래까지의 최단 거리 반환\n",
    "    return matrix[len(matrix)-1][len(matrix[0])-1]\n",
    "\n",
    "matrix = [\n",
    "    [1,0,1,0,1,0],\n",
    "    [1,1,1,1,1,1],\n",
    "    [0,0,0,0,0,1],\n",
    "    [1,1,1,1,1,1],\n",
    "    [1,1,1,1,1,1]\n",
    "]\n",
    "escapeLabyrinth(matrix)"
   ]
  },
  {
   "cell_type": "code",
   "execution_count": null,
   "metadata": {},
   "outputs": [],
   "source": [
    "# CountingSort\n",
    "# Time and Space complexity of Counting Sort is O(N+K).\n",
    "# Counting Sort is unefficient if has two data(one is smallest, one is biggest)\n",
    "# Counting Sort is efficient for many same value of data\n",
    "def countingSort(array):\n",
    "    answer = []\n",
    "    count = [0] * (max(array)+1)\n",
    "    for i in array:\n",
    "        count[i] += 1\n",
    "    \n",
    "    for idx, val in enumerate(count):\n",
    "        for j in range(val):\n",
    "            answer.append(idx)\n",
    "    return answer\n",
    "arr = [8, 5, 2, 9, 5, 6, 3, 1, 1, 9]\n",
    "print(countingSort(arr))"
   ]
  },
  {
   "cell_type": "code",
   "execution_count": null,
   "metadata": {},
   "outputs": [],
   "source": [
    "def func(A, B, K):\n",
    "    A.sort()\n",
    "    B.sort(reverse=True)\n",
    "\n",
    "    for i in range(K):\n",
    "        print(i, ' ', A)\n",
    "        if A[i] >= B[i]:\n",
    "            break\n",
    "        else:\n",
    "            A[i],B[i]=B[i],A[i]\n",
    "    return sum(A)\n",
    "\n",
    "def sum(arr):\n",
    "    total = 0\n",
    "    for i in arr:\n",
    "        total += i\n",
    "    return total\n",
    "\n",
    "# A = [100,100,100,100]\n",
    "# B = [1,1,200,1]\n",
    "\n",
    "A = [1,2,5,4,3]\n",
    "B = [5,5,6,6,5]\n",
    "K = 3\n",
    "func(A, B, K)"
   ]
  },
  {
   "cell_type": "code",
   "execution_count": null,
   "metadata": {},
   "outputs": [],
   "source": [
    "# Continued ...\n",
    "A = [1,2,[3,5],4,5]\n",
    "B = [6,6,[3,4],5,5]\n",
    "\n",
    "# array의 특정 인덱스 값이 primitive type인 경우, =뒤에 있는 '값'을 복사해온다\n",
    "A[2] = B[2]\n",
    "print(A)\n",
    "print(B)\n",
    "B[2] = 100\n",
    "print(A)\n",
    "print(B)\n",
    "\n",
    "print('### Another Example ###')\n",
    "C = [1,2,3,4,5]\n",
    "D = [6,6,[3,5,],5,5]\n",
    "C[2] = D[2]\n",
    "print(\"C: \", C)\n",
    "print(\"D: \", D)\n",
    "D[2] = [1,100]\n",
    "print(C)\n",
    "print(D)\n",
    "\n",
    "print('### Another Example ###')\n",
    "E = [1,2,3,4,5]\n",
    "F = [6,6,4,5,5]\n",
    "# 이 경우, array 그 자체가 = 뒤에 왔기 떄문에, 메모리 주소 자체를 가져온다.\n",
    "E = F\n",
    "# F의 값만 가져오고 싶다면 F[:]를 통해 element를 직접 가져와야 한다.\n",
    "print(E)\n",
    "print(F)\n",
    "# 즉, F를 바꾸면 E도 자동으로 바뀐다.\n",
    "F[2] = 100\n",
    "print(E)\n",
    "print(F)"
   ]
  },
  {
   "cell_type": "code",
   "execution_count": null,
   "metadata": {},
   "outputs": [],
   "source": [
    "def binarySearch(array, target):\n",
    "    left = 0\n",
    "    right = len(array) -1\n",
    "\n",
    "    while left <= right:\n",
    "        mid = left + (right - left)// 2\n",
    "        if target == array[mid]:\n",
    "            return mid\n",
    "        elif target < array[mid]:\n",
    "            right = mid - 1\n",
    "        else:\n",
    "            left = mid + 1\n",
    "    return -1\n",
    "\n",
    "array = [0, 1, 21, 33, 45, 45, 61, 71, 72, 73]\n",
    "target = 33\n",
    "binarySearch(array, target)"
   ]
  },
  {
   "cell_type": "code",
   "execution_count": null,
   "metadata": {},
   "outputs": [],
   "source": [
    "def binarySearch(array, target):\n",
    "    return binaryHelper(array, target, 0, len(array)-1)\n",
    "\n",
    "def binaryHelper(array, target, start, end):\n",
    "    if start > end:\n",
    "        return -1\n",
    "    mid = start + (end - start) // 2\n",
    "    if target == array[mid]:\n",
    "        return mid\n",
    "    elif target < array[mid]:\n",
    "        return binaryHelper(array, target, start, mid-1)\n",
    "    else:\n",
    "        return binaryHelper(array, target, mid+1, end)\n",
    "\n",
    "array = [0, 1, 21, 33, 45, 45, 61, 71, 72, 73]\n",
    "target = 33\n",
    "binarySearch(array, target)"
   ]
  },
  {
   "cell_type": "code",
   "execution_count": null,
   "metadata": {},
   "outputs": [],
   "source": [
    "# bisect library\n",
    "# 범위 안의 숫자를 구하기 위해 사용할 수 있는 라이브러리\n",
    "from bisect import bisect_left, bisect_right\n",
    "# 값이 [left_val, right_val]인 데이터의 개수를 반환하는 함수\n",
    "def count_by_range(a, left_val, right_val):\n",
    "    right_idx = bisect_right(a, right_val) # 정렬된 순서를 유지하면서 배열 a에 right_val을 삽입할 가장 오른쪽 인덱스를 반환\n",
    "    left_idx = bisect_left(a, left_val)# 정렬된 순서를 유지하면서 배열 a에 right_val을 삽입할 가장 왼쪽 인덱스를 반환\n",
    "    return right_idx - left_idx\n",
    "# 배열 선언\n",
    "a = [1, 2, 3, 3, 3, 4, 4, 8, 9]\n",
    "\n"
   ]
  },
  {
   "cell_type": "code",
   "execution_count": null,
   "metadata": {},
   "outputs": [],
   "source": [
    "def cakeCutter(array, target):\n",
    "    array.sort(reverse=True)\n",
    "    cutterHeight = array[0]\n",
    "    isEnough = False\n",
    "    while not isEnough:\n",
    "        total = 0\n",
    "        for num in array:\n",
    "            current = num - cutterHeight\n",
    "            if current >= 0:\n",
    "                total += current\n",
    "                if total >= target:\n",
    "                    isEnough = True\n",
    "                    break\n",
    "            else:\n",
    "                break\n",
    "        cutterHeight -= 1    \n",
    "    return cutterHeight + 1\n",
    "array = [19, 14, 10, 17]\n",
    "target = 6\n",
    "cakeCutter(array, target)"
   ]
  },
  {
   "cell_type": "code",
   "execution_count": null,
   "metadata": {},
   "outputs": [],
   "source": [
    "# N개의 원소를 포함하고 있는 수열이 오름차순으로 정령되어 있습니다. 이때 이 수열에서 X가 등장하는 횟수를 계산하세요. 예를 들어 수열 {1,1,2,2,2,2,3}이 있을 때 x = 2라면, 현재 수열에서 값이 2인 원소가 4개이므로 4를 출력합니다.\n",
    "# 단, 이 문제는 시간 복잡도 O(logN)으로 알고리즘을 설계하지 않으면 시간초과 판정을 받습니다.\n",
    "# 첫째 줄에 N과 x가 정수 형태로 공백으로 구분되어 입력됩니다.\n",
    "# 둘째 줄에 N개의 원소가 정수 형태로 공백으로 구분되어 입력됩니다.\n",
    "# 수열의 원소 중에서 값이 x인 원소의 개수를 출력합니다. 단, 값이 x인 원소가 하나도 없다면  -1을 출력합니다.\n",
    "from bisect import bisect_left, bisect_right\n",
    "def countFunc(array, x):\n",
    "    count = count_by_range(array, x, x)\n",
    "    if count == 0:\n",
    "        return -1\n",
    "    else:\n",
    "        return count\n",
    "\n",
    "def count_by_range(array, left_value, right_value):\n",
    "    right_index = bisect_right(array, right_value)\n",
    "    left_index = bisect_left(array,left_value)\n",
    "    return right_index - left_index\n",
    "\n",
    "array = [1,1,2,2,2,2,3]\n",
    "num = 2\n",
    "countFunc(array,num)"
   ]
  },
  {
   "cell_type": "code",
   "execution_count": null,
   "metadata": {},
   "outputs": [],
   "source": [
    "def bisect(arr, x):\n",
    "    if binary_search_start(array, x) == -1:\n",
    "        return -1\n",
    "    else:\n",
    "        return binary_search_end(array, x) - binary_search_start(array, x) + 1\n",
    "\n",
    "def binary_search_start(array, target):\n",
    "    start, end = 0, len(array)-1+1\n",
    "    while start <= end:\n",
    "        mid = (start + end) // 2\n",
    "        if array[mid] == target:\n",
    "            if mid - 1 < 0 or array[mid - 1] != target:\n",
    "                return mid\n",
    "            else:\n",
    "                end = mid - 1\n",
    "        elif array[mid] >= target:\n",
    "            end = mid - 1\n",
    "        else:\n",
    "            start = mid + 1\n",
    "    return -1\n",
    "\n",
    "def binary_search_end(array, target):\n",
    "    start, end = 0, len(array)-1\n",
    "    while start <= end:\n",
    "        mid = (start + end) // 2\n",
    "        if array[mid] == target:\n",
    "            if mid + 1 >= len(array) or array[mid + 1] != target:\n",
    "                return mid\n",
    "            else:\n",
    "                start = mid + 1\n",
    "        elif array[mid] >= target:\n",
    "            end = mid - 1\n",
    "        else:\n",
    "            start = mid + 1\n",
    "    return -1\n",
    "\n",
    "arr = [1,1,2,2,2,2,3]\n",
    "x = 2\n",
    "bisect(arr,x)"
   ]
  },
  {
   "cell_type": "code",
   "execution_count": null,
   "metadata": {},
   "outputs": [],
   "source": [
    "def func(arr, m):\n",
    "    start, end = 0, max(arr)\n",
    "    cutter = 0\n",
    "    while start <= end:\n",
    "        mid = (start+end) // 2\n",
    "        total = 0\n",
    "        for num in arr:\n",
    "            current = num - mid\n",
    "            if current > 0:\n",
    "                total += current\n",
    "        if total >= m:\n",
    "            cutter = mid\n",
    "            start = mid + 1\n",
    "        else:\n",
    "            end = mid - 1\n",
    "            \n",
    "    return cutter"
   ]
  },
  {
   "cell_type": "code",
   "execution_count": null,
   "metadata": {},
   "outputs": [],
   "source": [
    "from bisect import bisect_left, bisect_right\n",
    "\n",
    "def bisect(arr,x):\n",
    "    return bisect_right(arr, 2) - bisect_left(arr, 2)\n",
    "\n",
    "arr = [1,1,2,2,2,2,3]\n",
    "x = 2\n",
    "bisect(arr,x)"
   ]
  },
  {
   "cell_type": "code",
   "execution_count": null,
   "metadata": {},
   "outputs": [],
   "source": [
    "def bisect(arr,x):\n",
    "    if bisect_start(arr, x) == -1:\n",
    "        return -1\n",
    "    else:\n",
    "        return bisect_end(arr,x) - bisect_start(arr,x) + 1\n",
    "\n",
    "def bisect_start(arr,x):\n",
    "    start, end = 0, len(arr) - 1\n",
    "    while start <= end:\n",
    "        mid = (start+end)//2\n",
    "        if arr[mid] == x:\n",
    "            if mid < 0 or arr[mid-1] == x:\n",
    "                end = mid - 1\n",
    "            else:\n",
    "                return mid\n",
    "        elif arr[mid] > x:\n",
    "            end = mid - 1\n",
    "        else:\n",
    "            start = mid + 1\n",
    "    return -1\n",
    "\n",
    "\n",
    "def bisect_end(arr,x):\n",
    "    start, end = 0, len(arr) - 1\n",
    "    while start <= end:\n",
    "        mid = (start+end)//2\n",
    "        if arr[mid] == x:\n",
    "            if mid > len(arr)-1 or arr[mid+1] == x:\n",
    "                start = mid + 1\n",
    "            else:\n",
    "                return mid\n",
    "        elif arr[mid] > x:\n",
    "            end = mid - 1\n",
    "        else:\n",
    "            start = mid + 1\n",
    "    return -1\n",
    "\n",
    "arr = [1,1,2,2,2,2,3]\n",
    "x = 2\n",
    "bisect(arr,x)"
   ]
  },
  {
   "cell_type": "code",
   "execution_count": null,
   "metadata": {},
   "outputs": [],
   "source": [
    "def fibo(n, memoize):\n",
    "    if n not in memoize:\n",
    "        memoize[n] = fibo(n-1, memoize) + fibo(n-2, memoize)\n",
    "    return memoize[n]\n",
    "\n",
    "fibo(99, {1:1, 2:1})"
   ]
  },
  {
   "cell_type": "code",
   "execution_count": null,
   "metadata": {},
   "outputs": [],
   "source": [
    "def fibo(n):\n",
    "    lastTwo = [1, 1]\n",
    "    count = 2\n",
    "    while count < n:\n",
    "        lastTwo[0], lastTwo[1] = lastTwo[1], lastTwo[0] + lastTwo[1]\n",
    "        count += 1\n",
    "    return lastTwo[1] if count > 2 else lastTwo[0]\n",
    "\n",
    "fibo(99)"
   ]
  },
  {
   "cell_type": "markdown",
   "metadata": {},
   "source": [
    "## Max Subset Sum No Adjacent\n",
    "Write a function that takes in an array of positive integers and returns the maximum sum of non-adjacent elements in the array.\n",
    "If the input array is empty, the function should return 0.\n",
    "### Sample Input\n",
    "```\n",
    "array = [75, 105, 120, 75, 90, 135]\n",
    "```\n",
    "### Sample output\n",
    "```\n",
    "330 // 75 + 120 + 135\n",
    "```\n"
   ]
  },
  {
   "cell_type": "code",
   "execution_count": null,
   "metadata": {},
   "outputs": [],
   "source": [
    "def maxSubsetSumNoAdjacent(arr):\n",
    "    if len(arr) == 0:\n",
    "        return 0\n",
    "    if len(arr) == 1:\n",
    "        return arr[0]\n",
    "    lst = [arr[0], max(arr[0], arr[1])]\n",
    "    for i in range(2, len(arr)):\n",
    "        lst[0], lst[1] = lst[1], max(lst[1], lst[0] + arr[i])\n",
    "    return lst[1]\n",
    "\n",
    "arr = [75, 105, 120, 75, 90, 135]\n",
    "maxSubsetSumNoAdjacent(arr)"
   ]
  },
  {
   "cell_type": "markdown",
   "metadata": {},
   "source": [
    "## <문제> 1로 만들기: 문제설명\n",
    "정수 X가 주어졌을 때, 정수 X에 사용할 수 있는 연산은 다음과 같이 **4가지** 입니다.\n",
    "1. X가 5로 나누어 떨어지면, 5로 나눕니다.\n",
    "2. X가 3으로 나누어 떨어지면, 3으로 나눕니다.\n",
    "3. X가 2로 나누어 떨어지면, 2로 나눕니다.\n",
    "4. X에서 1을 뺍니다.\n",
    "정수 X가 주어졌을 때, 연산 4개를 적절히 사용해서 값을 1로 만들고자 합니다. 연산을 사용하는 횟수의 최솟값을 출력하세요. 예를 들어 정수가 26이면 다음과 같이 계산해서 3번의 연산이 최솟값입니다.\n",
    "26 --> 25 --> 5 --> 1"
   ]
  },
  {
   "cell_type": "code",
   "execution_count": null,
   "metadata": {},
   "outputs": [],
   "source": [
    "def makeOne(n):\n",
    "    memoize = {1:0}\n",
    "    for i in range(2, n+1):\n",
    "        memoize[i] = memoize[i-1] + 1\n",
    "        if i % 2 == 0:\n",
    "            memoize[i] = min(memoize[i], memoize[i//2]+1)\n",
    "        if i % 3 == 0:\n",
    "            memoize[i] = min(memoize[i], memoize[i//3]+1)\n",
    "        if i % 5 == 0:\n",
    "            memoize[i] = min(memoize[i], memoize[i//5]+1)\n",
    "    return memoize[n]\n",
    "x = 26\n",
    "makeOne(x)"
   ]
  },
  {
   "cell_type": "markdown",
   "metadata": {},
   "source": [
    "## **Min Number of Coins For Change**\n",
    "Given an array of positive integers representing coin denominations and a sincle non-negative integer **n** representing a target amount of money, write a function that returns the smallest number of coins needed to make change for (to sum up to) that target amount using the given coin denominations.\n",
    "Note that you have access to an unlimited amount of coins. In other words, if the denominations are **[1, 5, 10]**, you have access to an unlimited amount of **1**s, **5**s, and **10**s.\n",
    "If it's impossible to make change for the target amount, return **-1** ."
   ]
  },
  {
   "cell_type": "code",
   "execution_count": null,
   "metadata": {},
   "outputs": [],
   "source": [
    "def minNumChange(x, coins):\n",
    "    amount = [float('inf') for _ in range(x+1)]\n",
    "    amount[0] = 0\n",
    "\n",
    "    for coin in coins:\n",
    "        for i in range(coin, len(amount)):\n",
    "            amount[i] = min(amount[i], amount[i-coin]+1)\n",
    "    return amount[x] if amount[x] != float('inf') else -1\n",
    "\n",
    "# 0 1 2 3 4 5 6 7 8 9 0 1 2 3 4 \n",
    "# 0 _ 1 1 2 2 2 _ _ _ _ _ _ _ _ \n",
    "x = 15\n",
    "coins = [2, 3]\n",
    "minNumChange(x, coins)"
   ]
  },
  {
   "cell_type": "markdown",
   "metadata": {},
   "source": [
    "## 금광: 문제 해결 아이디어\n",
    "- n x m 크기의 금광이 있습니다. 금광은 1 x 1 크기의 칸으로 나누어져 있으며, 각 칸은 특정한 크기의 금이 들어있습니다.\n",
    "- 채굴자는 첫 번째 열부터 출발하여 금을 캐기 시작합니다. 맨 처음에는 첫 번째 열의 어느 행에서든 출발할 수 있습니다. 이후에 m - 1번에 걸쳐서 매번 오른쪽 위, 오른쪽, 오른쪽 아래 3가지 중 하나의 위치로 이동해야 합니다. 결과적으로 **채굴자가 얻을 수 있는 금의 최대 크기** 를 출력하는 프로그램을 작성하세요.\n",
    "```\n",
    "            [1, 3, 3, 2]\n",
    "            [2, 1, 4, 1]          ==> 얻을 수 있는 금의 최대 크기: 19\n",
    "            [0, 6, 4, 7]\n",
    "```"
   ]
  },
  {
   "cell_type": "code",
   "execution_count": null,
   "metadata": {},
   "outputs": [],
   "source": [
    "def obtainMaxGold(matrix):\n",
    "    maxMatrix = matrix[:]\n",
    "    for col in range(1, len(matrix[0])):\n",
    "        for row in range(len(matrix)):\n",
    "            currentBest = maxMatrix[row][col-1]\n",
    "            if row > 0:\n",
    "                currentBest = max(currentBest, maxMatrix[row-1][col-1])\n",
    "            if row < len(matrix)-1:\n",
    "                currentBest = max(currentBest, maxMatrix[row+1][col-1])\n",
    "            maxMatrix[row][col] += currentBest\n",
    "    maxResult = 0\n",
    "    for row in range(len(matrix)):\n",
    "        maxResult = max(maxResult, maxMatrix[row][-1])\n",
    "    return maxResult\n",
    "\n",
    "\n",
    "matrix =   [[1, 3, 3, 2],\n",
    "            [2, 1, 4, 1],\n",
    "            [0, 6, 4, 7]]\n",
    "obtainMaxGold(matrix)"
   ]
  },
  {
   "cell_type": "markdown",
   "metadata": {},
   "source": [
    "## 정수 삼각형 문제\n",
    "위 그림은 크기가 5인 정수 삼각형의 한 모습입니다.\\\n",
    "맨 위층 7부터 시작해서맨 위층 7부터 시작해서 아래에 있는 수 중 하나를 선택하여 아래층으로 내려올 때, 이제까지 선택된 수의 합이 최대가 되는 경로를 구하는 프로그램을 작성하세요. 아래층에 있는 수는 현재 층에서 선택된 수의 대각선 왼쪽 또는 대각선 오른쪽에 있는 것 중에서만 선택할 수 있습니다."
   ]
  },
  {
   "cell_type": "code",
   "execution_count": null,
   "metadata": {},
   "outputs": [],
   "source": [
    "def func(matrix):\n",
    "    for row in range(1, len(matrix)):\n",
    "        for idx in range(len(matrix[row])):\n",
    "            current = -1\n",
    "            if idx > 0:\n",
    "                current = max(current, matrix[row-1][idx-1])\n",
    "            if idx < len(matrix[row])-1:\n",
    "                current = max(current, matrix[row-1][idx])\n",
    "            matrix[row][idx] += current\n",
    "    return max(matrix[-1])\n",
    "\n",
    "matrix =      [[7],\n",
    "             [3, 8],\n",
    "            [8, 1, 0],\n",
    "          [2, 7, 4, 4],\n",
    "         [4, 5, 2, 6, 5]]\n",
    "print(func(matrix))"
   ]
  },
  {
   "cell_type": "markdown",
   "metadata": {},
   "source": [
    "## Longest Increasing Subsequence\n",
    "Given a non-empty array of ingegers, write a function that returns the longest strictly-increasing subsequence in the array.\n",
    "A subsequence of an array is a set of numbers that aren't necessarily adjacent in the array but that are in the same order as they appear in the array. For instance, the numbers `[1, 3, 4]` for a subsequence of the array `[1, 2, 3, 4]`, and so do the numbers `[2, 4]`. Note that a single number in an array and the array itself are both valid subsequences of the array.\n",
    "You can assume that there will only be one longest increasing subsequence.\n",
    "\n",
    "### Sample Input\n",
    "```\n",
    "array = [5, 7, -24, 12, 10, 2, 3, 12, 5, 6, 35]\n",
    "```\n",
    "### Sample Output\n",
    "```\n",
    "[-24, 2, 3, 5, 6, 35]\n",
    "```\n"
   ]
  },
  {
   "cell_type": "code",
   "execution_count": null,
   "metadata": {},
   "outputs": [],
   "source": [
    "def longestIncreasingSubsequence(array):\n",
    "    pass\n"
   ]
  },
  {
   "cell_type": "markdown",
   "metadata": {},
   "source": [
    "## 병사 배치하기"
   ]
  },
  {
   "cell_type": "code",
   "execution_count": 1,
   "metadata": {},
   "outputs": [
    {
     "data": {
      "text/plain": [
       "2"
      ]
     },
     "execution_count": 1,
     "metadata": {},
     "output_type": "execute_result"
    }
   ],
   "source": [
    "def LIS_length(array):\n",
    "    array.reverse()\n",
    "    dp = [1] * len(array)\n",
    "    for i in range(1, len(array)):\n",
    "        for j in range(0, i):\n",
    "            if array[j] < array[i]:\n",
    "                dp[i] = max(dp[i], dp[j]+1)\n",
    "    return len(array) - max(dp)\n",
    "array = [15, 11, 4, 8, 5, 2, 4]\n",
    "LIS_length(array)"
   ]
  },
  {
   "cell_type": "code",
   "execution_count": null,
   "metadata": {},
   "outputs": [],
   "source": [
    "def func(arr):\n",
    "    pass\n",
    "arr = [1,2,3,4,5,6,7,8,9,10]\n",
    "func(arr)"
   ]
  },
  {
   "cell_type": "markdown",
   "metadata": {},
   "source": [
    "## **다이나믹 프로그래밍(Dynamic Programming)** VS **분할 정복(Divide and Conquer)**\n",
    "다이나믹 프로그래밍과 분할 정복은 모두 **최적 부분 구조(Optimal Structure)** 를 가질 때 사용할 수 있습니다.\n",
    "- 큰 문제를 작은 문제로 나눌 수 있으며 작은 문제의 답을 모아서 큰 문제를 해결할 수 있는 상황\n",
    "다이나믹 프로그래밍과 분할 정복의 차이점은 **부분 문제의 중복 (Overlapping Subproblems)** 입니다.\n",
    "- 다이나믹 프로그래밍 문제에서는 각 부분 문제들이 서로 영향을 미치며 부분 문제가 중복됩니다.\n",
    "- 분할 정복 문제에서는 동일한 부분 문제가 반복적으로 계산되지 않습니다."
   ]
  },
  {
   "cell_type": "markdown",
   "metadata": {},
   "source": [
    "## Non-Constructible Change\n",
    "Given an array of positive integers representing the values of coins in your possession, write a function that returns the minimum amount of change (the minimum sum of mony) that you **cannot** create. The given coins can have any positive integer value and aren't necessarily unique(i.e., you can have multiple coins of the same value).\n",
    "\n",
    "For example, if you're given `coins=[1, 2, 5]`, the minimum amount of chage that you can't create is `4`. If you're given no coins, the minimum amount of change that you can't create `1`."
   ]
  },
  {
   "cell_type": "code",
   "execution_count": null,
   "metadata": {},
   "outputs": [],
   "source": [
    "def nonConstructibleChange(coins):\n",
    "    pass\n",
    "\n",
    "coins = [1, 1, 2, 3, 6, 20, 22]\n",
    "nonConstructibleChange(coins)"
   ]
  },
  {
   "cell_type": "markdown",
   "metadata": {},
   "source": [
    "## 모험가 길드: 문제설명\n",
    "- 한 마을에 모험가가 N명 있습니다. 모험가 길드에서는 N명의 모험가를 대상으로'공포도'를 측정했는데, '공포도'가 높은 모험가는 쉽게 공포를 느껴 위험 상황에서 제대로 대처할 능력이 떨어집니다.\n",
    "- 모험가 길드장인 동빈이는 모험가 그룹을 안전하게 구성하고자 **공포도가 X인 모험가는 반드시 X명 이상으로 구성한 모험가 그룹에 참여**해야 여행을 떠날 수 있도록 규정했습니다.\n",
    "- 동빈이는 최대 몇 개의 모험가 그룹을 만들 수 있는지 궁금합니다. N명의 모험가에 대한 정보가 주어졌을때, **여행을 떠날 수 있는 그룹 수의 최댓값**을 구하는 프로그램을 작성하세요.\n",
    "- 예를 들어 N = 5이고, 각 모험가의 공포도가 다음과 같다고 가정합시다.\n",
    "    ```\n",
    "    2 3 1 2 2 \n",
    "    ```\n",
    "- 이 경우 그룹 1에 공포도가 1, 2, 3인 모험가를 한 명씩 넣고, 그룹 2에 공포도가 2인 남은 두 명을 넣게 되면 총 2개의 그룹을 만들 수 있습니다.\n",
    "- 또한 몇 명의 모험가는 마을에 그대로 남아 있어도 되기 때문에, 모든 모험가를 특정한 그룹에 넣을 필요는 없습니다."
   ]
  },
  {
   "cell_type": "code",
   "execution_count": null,
   "metadata": {},
   "outputs": [],
   "source": [
    "def func(arr):\n",
    "    arr.sort()\n",
    "    count = 0\n",
    "    group = 0\n",
    "    for i in arr:\n",
    "        count += 1\n",
    "        if count >= i:\n",
    "            group += 1 \n",
    "            count = 0\n",
    "    return group\n",
    "arr = [2, 3, 1, 2, 2]\n",
    "func(arr)"
   ]
  },
  {
   "cell_type": "markdown",
   "metadata": {},
   "source": [
    "## 문제: 시각 구하기\n",
    "- 정수 N이 입력되면 00시 00분 00초부터 N시 59분 59초까지의 **모든 시각중에서 3이 하나라도 포함되는 모든 경우의 수를 구하는 프로그램을 작성**하시오. 예를 들어 1을 입력했을 때 다음은 3이 하나라도 포함되어 있으므로 <u>세어야 하는 시각</u> 입니다.\n",
    "    - 00시 00분 03초\n",
    "    - 00시 13분 30초\n",
    "- 반면에 다음은 3이 하나도 포함되어 있지 않으므로 <u>세면 안되는 시각</u>입니다.\n",
    "    - 00시 02분 55초\n",
    "    - 01시 27분 45초\n",
    "\n",
    "#### 입력 조건\n",
    "- 첫째 줄에 정수 N이 입력됩니다. (0<=N<=23)\n",
    "\n",
    "#### 출력 조건\n",
    "- 00시 00분 00초부터 N시 59분 59초까지의 모든 시각 중에서 3이 하나라도 포함되는 모든 경우의 수를 출력합니다.\n",
    "\n",
    "#### 입력 예시\n",
    "```\n",
    "5\n",
    "```\n",
    "\n",
    "#### 출력 예시\n",
    "```\n",
    "11475\n",
    "```"
   ]
  },
  {
   "cell_type": "code",
   "execution_count": null,
   "metadata": {},
   "outputs": [],
   "source": [
    "def func(N):\n",
    "    count = 0\n",
    "    for hour in range(N+1):\n",
    "        for mins in range(60):\n",
    "            for sec in range(60):\n",
    "                time = str(hour) + str(mins) + str(sec)\n",
    "                if '3' in time:\n",
    "                    count += 1\n",
    "    return count\n",
    "func(5)"
   ]
  },
  {
   "cell_type": "markdown",
   "metadata": {},
   "source": [
    "## 문제: 럭키 스트라이크\n",
    "현재 캐릭터의 점수를 N이라고 할 때 자릿수를 기준으로 점수 N을 반으로 나누어 왼쪽 부분의 각 자릿수의 합과 오른쪽 부분의 각 자릿수의 합을 더한 값이 동일한 상황을 럭키 스트레이트를 사용할 수 있는 상태입니다.\\\n",
    "현재 점수 N이 주어지면 럭키 스트레이트를 사용할 수 있는 상태인지 아닌지를 알려주는 프로그램을 작성하세요.\\\n",
    "정수 N의 자릿수는 항상 짝수 형태로만 주어집니다.\\\n",
    "첫째 줄에 럭키 스트레이트를 사용할 수 있다면 \"LUCKY\"를, 사용할 수 없다면 \"READY\"를 출력합니다.\n",
    "\n",
    "#### 입력 예시 1\n",
    "```\n",
    "123402\n",
    "```\n",
    "\n",
    "#### 출력 예시 1\n",
    "```\n",
    "LUCKY\n",
    "```\n",
    "\n",
    "#### 입력 예시 2\n",
    "\n",
    "```\n",
    "123403\n",
    "```\n",
    "\n",
    "#### 출력 예시 2\n",
    "```\n",
    "READY\n",
    "```"
   ]
  },
  {
   "cell_type": "code",
   "execution_count": null,
   "metadata": {},
   "outputs": [],
   "source": [
    "def func(N):\n",
    "    string = str(N)\n",
    "    mid = len(string) // 2\n",
    "    \n",
    "N = 123402\n",
    "func(N)"
   ]
  },
  {
   "cell_type": "markdown",
   "metadata": {},
   "source": [
    "Write a function that takes in a non-empty string and returns its run-length encoding.\n",
    "From Wikipedia, \"run-length encoding is a form of lossless data compression in which runs of data are stored as a single data value and count, rather than as the original run.\" For this problem, a run of data is any sequence of consecutive, identical characters. So the run `\"AAA\"` would be run-length-encoded as `\"3A\"`.\n",
    "To make things more complicated, however, the input string can contain all sorts of special characters, including numbers. And since encoded data must be decodable, this means that we can't naively run-length-encode long runs. For example, the run `\"AAAAAAAAAAAA\"` (12 `A`s), can't naively be encoded as `\"12A\"`, since this string can be decoded as either `\"AAAAAAAAAAAA\"` or `\"1AA\"`. Thus, long runs (runs of 10 or more characters) should be encoded in a split fashion; the aforementioned run should be encoded as `\"9A3A\"`.\n",
    " \n",
    "<**Sample Input**>\n",
    "```\n",
    "string = \"AAAAAAAAAAAAABBCCCCDD\"\n",
    "```\n",
    "<**Sample Output**>\n",
    "```\n",
    "\"9A4A2B4C2D\"\n",
    "```\n",
    "<**Question**>\n"
   ]
  },
  {
   "cell_type": "code",
   "execution_count": null,
   "metadata": {},
   "outputs": [],
   "source": [
    "def runLengthEncoding(string):\n",
    "    idx = 0\n",
    "    runLength = []\n",
    "    while idx <= len(string)-1:\n",
    "        count = 1\n",
    "        while idx < len(string)-1 and string[idx] == string[idx+1]:\n",
    "            count += 1\n",
    "            idx += 1\n",
    "            if count > 9:\n",
    "                count = 0\n",
    "                runLength.append(\"9\" + string[idx])\n",
    "        runLength.append(str(count) + string[idx])\n",
    "        idx += 1\n",
    "    return ''.join(runLength)\n",
    "runLengthEncoding('AAAAAAAAAAAAABBCCCCDD')"
   ]
  },
  {
   "cell_type": "markdown",
   "metadata": {},
   "source": [
    "## Stack vs Queue\n",
    "### Stack\n",
    "- Stack can be implemented with standard Python list"
   ]
  },
  {
   "cell_type": "code",
   "execution_count": null,
   "metadata": {},
   "outputs": [],
   "source": [
    "stack = []\n",
    "# Insert\n",
    "stack.append(3)\n",
    "stack.append(2)\n",
    "stack.append(1)\n",
    "# Delete\n",
    "stack.pop()\n",
    "print(stack)\n",
    "stack.append(1)\n",
    "# But, when you print a stack, make sure you print in reverse order (because the tail is the top)\n",
    "print(stack[::-1])"
   ]
  },
  {
   "cell_type": "markdown",
   "metadata": {},
   "source": [
    "### Queue\n",
    "- Queue needs an import of 'deque' library instead of a standard Python list"
   ]
  },
  {
   "cell_type": "code",
   "execution_count": null,
   "metadata": {},
   "outputs": [],
   "source": [
    "# Using a standard Python list\n",
    "queue = []\n",
    "queue.append(3)\n",
    "queue.append(2)\n",
    "queue.append(1)\n",
    "# you can delete the first item this way\n",
    "queue.pop(0)\n",
    "# BUT, this takes O(N) — NOT ideal !!!"
   ]
  },
  {
   "cell_type": "code",
   "execution_count": null,
   "metadata": {},
   "outputs": [],
   "source": [
    "from collections import deque\n",
    "# Append / popleft ==> both are O(1)\n",
    "# List 를 이용해서 queue를 구현하면 맨 앞에놈을 꺼낼때 O(N)이 드는거나 마찬가지다.\n",
    "\n",
    "queue = deque()\n",
    "# Insert\n",
    "queue.append(5)\n",
    "queue.append(2)\n",
    "queue.append(3)\n",
    "queue.append(7)\n",
    "# Delete\n",
    "queue.popleft()\n",
    "print(queue)"
   ]
  },
  {
   "cell_type": "code",
   "execution_count": null,
   "metadata": {},
   "outputs": [],
   "source": [
    "def factorial(N):\n",
    "    current = 1\n",
    "    while N > 0:\n",
    "        current *= N\n",
    "        N -= 1   \n",
    "    return current\n",
    "N = 5\n",
    "factorial(N)"
   ]
  },
  {
   "cell_type": "code",
   "execution_count": null,
   "metadata": {},
   "outputs": [],
   "source": [
    "# Factorial using recursion\n",
    "def recursiveFactorial(N):\n",
    "    if N == 1:\n",
    "        return N\n",
    "    return N * recursiveFactorial(N-1)\n",
    "N = 5\n",
    "recursiveFactorial(N)"
   ]
  },
  {
   "cell_type": "code",
   "execution_count": null,
   "metadata": {},
   "outputs": [],
   "source": [
    "# getGCD\n",
    "def getGCD(A, B):\n",
    "    if A % B == 0:\n",
    "        return B\n",
    "    return getGCD (B, A%B)\n",
    "getGCD(24, 64)"
   ]
  },
  {
   "cell_type": "markdown",
   "metadata": {},
   "source": [
    "### Max Subset Sum No Adjacent\n",
    "Write a function that takes in an array of positive integers and returns the maximum sum of non-adjacent elements in the array.\n",
    "\n",
    "If the input array is empty, the function should return 0.\n",
    "\n",
    "<**Sample Input 1**>\n",
    "```\n",
    "array = [75, 105, 120, 75, 90, 135]\n",
    "```\n",
    "<**Sample Output 1**>\n",
    "```\n",
    "330\n",
    "```\n",
    "\n",
    "<**Sample Input 2**>\n",
    "```\n",
    "array = [125, 210, 250, 120, 150, 300]\n",
    "```\n",
    "<**Sample Output 2**>\n",
    "```\n",
    "675\n",
    "```\n",
    "\n",
    "<**Question**>\n",
    "\n"
   ]
  },
  {
   "cell_type": "code",
   "execution_count": null,
   "metadata": {},
   "outputs": [],
   "source": [
    "def maxSubsetSumNoAdjacent(array):\n",
    "    if not array:\n",
    "        return 0\n",
    "    if len(array) == 1:\n",
    "        return array[0]\n",
    "    biggest = [array[0], max(array[0], array[1])]\n",
    "    for i in range(2, len(array)):\n",
    "        biggest[0], biggest[1] = biggest[1], max(biggest[1], biggest[0] + array[i])\n",
    "    return biggest[1]\n",
    "\n",
    "maxSubsetSumNoAdjacent([75, 105, 120, 75, 90, 135])"
   ]
  },
  {
   "cell_type": "markdown",
   "metadata": {},
   "source": [
    "## DFS"
   ]
  },
  {
   "cell_type": "code",
   "execution_count": null,
   "metadata": {},
   "outputs": [],
   "source": [
    "class Node:\n",
    "    def __init__(self, name):\n",
    "        self.children = []\n",
    "        self.name = name\n",
    "        \n",
    "    def addChild(self, name):\n",
    "        self.children.append(Node(name))\n",
    "        return self\n",
    "    \n",
    "    def depthFirstSearch(self, array):\n",
    "        array.append(self.name)\n",
    "        for child in self.children:\n",
    "            child.depthFirstSearch(array)\n",
    "        return array"
   ]
  },
  {
   "cell_type": "markdown",
   "metadata": {},
   "source": [
    "## Run Length Encoding"
   ]
  },
  {
   "cell_type": "code",
   "execution_count": null,
   "metadata": {},
   "outputs": [],
   "source": [
    "def runLenEncoding(string):\n",
    "    answer = []\n",
    "    current = 1\n",
    "    for i in range(1, len(string)):\n",
    "        if string[i-1] != string[i] or current == 9:\n",
    "            answer.append(str(current) + string[i-1])\n",
    "            current = 0\n",
    "        current += 1\n",
    "        \n",
    "    answer.append(str(current) + string[-1])\n",
    "    return ''.join(answer)"
   ]
  },
  {
   "cell_type": "markdown",
   "metadata": {},
   "source": [
    "## 아이스크림\n",
    "- N X M 크기의 얼음 틀이 있습니다. 구멍이 뚫려 있는 부분은 0, 칸막이가 존재하는 부분은 1로 표시됩니다. 구멍이 뚫려 있는 부분끼리 상, 하, 좌, 우로 붙어 있는 경우 서로 연결되어 있는 것으로 간주합니다. 이때 <u>얼음 틀의 모양이 주어졌을 때, 생성되는 총 아이스크림의 개수를 구하는 프로그램을 작성</u>하세요. 다음의 4 X 5 얼음 틀 예시에서는 아이스크림이 총 3개 생성됩니다.\\\n",
    "============================================================================================================================================================\n",
    "00110\\\n",
    "00011\\\n",
    "11111\\\n",
    "00000\\\n",
    "============================================================================================================================================================"
   ]
  },
  {
   "cell_type": "code",
   "execution_count": null,
   "metadata": {},
   "outputs": [],
   "source": [
    "def func(cream):\n",
    "    visited = [[False for col in range(len(cream[0]))] for row in range(len(cream))]\n",
    "    answer = []\n",
    "    for row in range(len(cream)):\n",
    "        for col in range(len(cream[0])):\n",
    "            if visited[row][col]:\n",
    "                continue\n",
    "            helper(cream, visited, row, col, answer)\n",
    "    return len(answer)\n",
    "\n",
    "def helper(cream, visited, row, col, answer):\n",
    "    possible = [(row, col)]\n",
    "    size = 0\n",
    "    while possible:\n",
    "        row, col = possible.pop()\n",
    "        if visited[row][col]:\n",
    "            continue\n",
    "        visited[row][col] = True\n",
    "        if cream[row][col] != 0:\n",
    "            continue\n",
    "        getNeibors(cream, row, col, possible)\n",
    "        size += 1\n",
    "    if size > 0:\n",
    "        answer.append(size)\n",
    "        \n",
    "def getNeibors(cream, row, col, possible):\n",
    "    if row > 0:\n",
    "        possible.append((row-1, col))\n",
    "    if row < len(cream)-1:\n",
    "        possible.append((row+1, col))\n",
    "    if col > 0:\n",
    "        possible.append((row, col-1))\n",
    "    if col < len(cream[0])-1:\n",
    "        possible.append((row, col+1))\n",
    "        \n",
    "cream = [\n",
    " [0,0,1,1,0],\n",
    " [0,0,0,1,1],\n",
    " [1,1,1,1,1],\n",
    " [0,0,0,0,0]]\n",
    "\n",
    "func(cream)"
   ]
  },
  {
   "cell_type": "code",
   "execution_count": null,
   "metadata": {},
   "outputs": [],
   "source": [
    "from collections import deque\n",
    "def func(matrix):\n",
    "    queue = deque([(0,0)])\n",
    "    x_dir = [-1,+1,0,0]\n",
    "    y_dir = [0,0,-1,+1]\n",
    "    \n",
    "    while queue:\n",
    "        x, y = queue.popleft()\n",
    "        for i in range(4):\n",
    "            nx = x + x_dir[i]\n",
    "            ny = y + y_dir[i]\n",
    "            \n",
    "            if nx < 0 or nx >= len(matrix) or ny < 0 or ny >= len(matrix[0]):\n",
    "                continue\n",
    "            if matrix[nx][ny] == 0:\n",
    "                continue\n",
    "            if matrix[nx][ny] == 1:\n",
    "                matrix[nx][ny] = matrix[x][y] + 1\n",
    "                queue.append((nx,ny))\n",
    "    return matrix[-1][-1]\n",
    "\n",
    "matrix = [\n",
    "    [1,0,1,0,1,0],\n",
    "    [1,1,1,1,1,1],\n",
    "    [0,0,0,0,0,1],\n",
    "    [1,1,1,1,1,1],\n",
    "    [1,1,1,1,1,1]\n",
    "]\n",
    "func(matrix)"
   ]
  },
  {
   "cell_type": "markdown",
   "metadata": {},
   "source": [
    "## 정렬 - 국영수\n",
    "1. 국어 점수가 감소하는 순서로\n",
    "2. 국어 점수가 같으면 영어 점수가 증가하는 순서로\n",
    "3. 국어 점수와 영어 점수가 같으면 수학 점수가 감소하는 순서로\n",
    "4. 모든 점수가 같으면 이름이 사전 순으로 증가하는 순서로(단, 아스키코드에서는 대문자는 소문자보다 작으므로 사전 순으로 앞에 온다.)"
   ]
  },
  {
   "cell_type": "code",
   "execution_count": null,
   "metadata": {},
   "outputs": [],
   "source": [
    "def func(lst):\n",
    "    newLst = []\n",
    "    for student in lst:\n",
    "        string = student.split()\n",
    "        newLst.append(string)\n",
    "    newLst.sort(key= lambda x: (-int(x[1]), int(x[2]), -int(x[3]), x[0]))\n",
    "    \n",
    "    answer = []\n",
    "    for student in newLst:\n",
    "        answer.append(student[0])\n",
    "    return answer\n",
    "    \n",
    "lst = [\n",
    "    'Junkyu 50 60 100',\n",
    "    'Sangkeun 80 60 50',\n",
    "    'Sunyoung 80 70 100',\n",
    "    'Soong 50 60 90',\n",
    "    'Haebin 50 60 100',\n",
    "    'Kangsoo 60 80 100',\n",
    "    'Donghyuk 80 60 100',\n",
    "    'Sei 70 70 70',\n",
    "    'Wonseob 70 70 90',\n",
    "    'Sanghyun 70 70 80',\n",
    "    'nsj 80 80 80',\n",
    "    'Taewhan 50 60 90'\n",
    "]\n",
    "\n",
    "print(func(lst))"
   ]
  },
  {
   "cell_type": "markdown",
   "metadata": {},
   "source": [
    "## 최단거리 구하기\n",
    "어떤 나라에는 1번부터 N번까지의 도시와 M개의 단방향 도로가 존재한다. 모든 도로의 거리는 1이다.\\\n",
    "\n",
    "이 때 특정한 도시 X로부터 출발하여 도달할 수 있는 모든 도시 중에서, 최단 거리가 정확히 K인 모든 도시들의 번호를 출력하는 프로그램을 작성하시오. 또한 출발 도시 X에서 출발 도시 X로 가는 최단 거리는 항상 0이라고 가정한다.\\\n",
    "\n",
    "예를 들어 N=4, K=2, X=1일 때 다음과 같이 그래프가 구성되어 있다고 가정하자.\\\n",
    "\n",
    "- 1 --> 2\n",
    "- 1 --> 3\n",
    "- 2 --> 3\n",
    "- 2 --> 4\n",
    "\n",
    "이 때 1번 도시에서 출발하여 도달할 수 있는 도시 중에서, 최단 거리가 2인 도시는 4번 도시 뿐이다.  2번과 3번 도시의 경우, 최단 거리가 1이기 때문에 출력하지 않는다.\n",
    "\n",
    "### 입력\n",
    "첫째 줄에 도시의 개수 N, 도로의 개수 M, 거리 정보 K, 출발 도시의 번호 X가 주어진다. (2 ≤ N ≤ 300,000, 1 ≤ M ≤ 1,000,000, 1 ≤ K ≤ 300,000, 1 ≤ X ≤ N) 둘째 줄부터 M개의 줄에 걸쳐서 두 개의 자연수 A, B가 공백을 기준으로 구분되어 주어진다. 이는 A번 도시에서 B번 도시로 이동하는 단방향 도로가 존재한다는 의미다. (1 ≤ A, B ≤ N) 단, A와 B는 서로 다른 자연수이다.\n",
    "\n",
    "### 출력\n",
    "X로부터 출발하여 도달할 수 있는 도시 중에서, 최단 거리가 K인 모든 도시의 번호를 한 줄에 하나씩 오름차순으로 출력한다.\n",
    "\n",
    "이 때 도달할 수 있는 도시 중에서, 최단 거리가 K인 도시가 하나도 존재하지 않으면 -1을 출력한다.\n",
    "\n",
    "### 예제 입력 1\n",
    "```\n",
    "4 4 2 1\n",
    "1 2\n",
    "1 3\n",
    "2 3\n",
    "2 4\n",
    "```\n",
    "\n",
    "### 예제 출력 1\n",
    "```\n",
    "4\n",
    "```\n",
    "\n",
    "### 예제 입력 2\n",
    "```\n",
    "4 3 2 1\n",
    "1 2\n",
    "1 3\n",
    "1 4\n",
    "```\n",
    "\n",
    "### 예제 출력 2\n",
    "```\n",
    "-1\n",
    "```\n",
    "\n",
    "### 예제 입력 3\n",
    "```\n",
    "4 4 1 1\n",
    "1 2\n",
    "1 3\n",
    "2 3\n",
    "2 4\n",
    "```\n",
    "\n",
    "### 예제 출력 3\n",
    "```\n",
    "2\n",
    "3\n",
    "```\n"
   ]
  },
  {
   "cell_type": "code",
   "execution_count": null,
   "metadata": {},
   "outputs": [],
   "source": [
    "from collections import deque\n",
    "def shortestPath(paths, cities, minimumDistance, startingCity):\n",
    "    pathDic = [[] for _ in range(cities+1)]\n",
    "    shortestPath = [-1] * (cities + 1)\n",
    "    shortestPath[startingCity] = 0\n",
    "    print(pathDic)\n",
    "    print(shortestPath)\n",
    "    \n",
    "    for path in paths:\n",
    "        pathDic[path[0]].append(path[1])\n",
    "    print(pathDic)\n",
    "    \n",
    "    queue = deque([startingCity])\n",
    "    while queue:\n",
    "        current = queue.popleft()\n",
    "        # print(current)\n",
    "        for next in pathDic[current]:\n",
    "            print(next)\n",
    "            if shortestPath[next] == -1:\n",
    "                shortestPath[next] = shortestPath[current]+1\n",
    "                queue.append(next)\n",
    "    answer = []\n",
    "    for city, distance in enumerate(shortestPath):\n",
    "        if distance == minimumDistance:\n",
    "            answer.append(city)\n",
    "    return answer if answer else [-1]\n",
    "    \n",
    "paths = [[1,2], [1,3], [2,3], [2,4]]\n",
    "cities = 4\n",
    "minimumDistance = 2\n",
    "startingCity = 1\n",
    "\n",
    "print(shortestPath(paths, cities, minimumDistance, startingCity))"
   ]
  },
  {
   "cell_type": "markdown",
   "metadata": {},
   "source": [
    "## Parametric Search\n",
    "- __파라메트릭 서치__ 란 <u>최적화 문제를 결정 문제('예' 혹은 '아니오')로 바꾸어 해결하는 기법</u>입니다.\n",
    "    - 예시: 특정한 조건을 만족하는 가장 알맞은 값을 빠르게 찾는 최적화 문제\n",
    "- 일반적으로 코딩 테스트에서 파라메트릭 서치 문제는 __이진 탐색을 이용하여 해결__ 할 수 있습니다."
   ]
  },
  {
   "cell_type": "markdown",
   "metadata": {},
   "source": [
    "### 이진탐색 심화 - bisect"
   ]
  },
  {
   "cell_type": "code",
   "execution_count": null,
   "metadata": {},
   "outputs": [],
   "source": [
    "def bisect(arr, x):\n",
    "    if binary_search_start(arr, x) == -1:\n",
    "        return -1\n",
    "    else:\n",
    "        return binary_search_end(arr, x) - binary_search_start(arr, x) + 1\n",
    "    \n",
    "def binary_search_start(arr, x):\n",
    "    start, end = 0, len(arr)-1\n",
    "    startIdx = -1\n",
    "    while start <= end:\n",
    "        mid = start + (end - start) // 2\n",
    "        if arr[mid] == x:\n",
    "            startIdx = mid\n",
    "            end = mid - 1\n",
    "            "
   ]
  },
  {
   "cell_type": "code",
   "execution_count": 5,
   "metadata": {},
   "outputs": [
    {
     "name": "stdout",
     "output_type": "stream",
     "text": [
      "2\n"
     ]
    }
   ],
   "source": [
    "def numofWaystomakeChange(n, denoms):\n",
    "    # bottom - up\n",
    "    ways = [0 for amount in range(n+1)]\n",
    "    ways[0] = 1\n",
    "    \n",
    "    for denom in denoms:\n",
    "        for amount in range(denom, n+1):\n",
    "            ways[amount] += ways[amount-denom]\n",
    "    return ways[n]\n",
    "    \n",
    "n = 6\n",
    "denoms = [1, 5]\n",
    "print(numofWaystomakeChange(n, denoms))"
   ]
  },
  {
   "cell_type": "markdown",
   "metadata": {},
   "source": [
    "### THREE NUMBER SUM <Algoexpert>\n",
    "Write a function that takes in a non-empty array of distinct integers and an integer representing a target sum. The function should find all triplets in the array that sum up to the target sum and return a two-dimensional array of all these triplets. The numbers in each triplet should be ordered in ascending order, and the triplets themselves should be ordered in ascending order with respect to the numbers they hold.\n",
    "If no three numbers sum up to the target sum, the function should return an empty array.\n",
    "\n",
    "<**Sample Input**>\n",
    "```\n",
    "array = [12, 3, 1, 2, -6, 5, -8, 6]\n",
    "targetSum = 0\n",
    "```\n",
    "<**Sample Output**>\n",
    "```\n",
    "[[-8,2,6],[-8,3,5],[-6,1,5]]\n",
    "```\n",
    "\n",
    "<**Question**>\n",
    "```\n",
    "def threeNumberSum(array, targetSum):\n",
    "    # Write your code here.\n",
    "    pass\n",
    "```"
   ]
  },
  {
   "cell_type": "code",
   "execution_count": null,
   "metadata": {},
   "outputs": [],
   "source": [
    "def threeNumberSum(array, targetSum):\n",
    "    array.sort()\n",
    "    answer = []\n",
    "    for first in range(len(array)-2):\n",
    "        second, third = first+1, len(array)-1\n",
    "        while second < third:\n",
    "            current = array[first]+array[second]+array[third]\n",
    "            if current == targetSum:\n",
    "                answer.append([array[first],array[second],array[third]])\n",
    "                second += 1\n",
    "                third -= 1\n",
    "            elif current > targetSum:\n",
    "                third -= 1\n",
    "            else:\n",
    "                second += 1\n",
    "    return answer"
   ]
  },
  {
   "cell_type": "markdown",
   "metadata": {},
   "source": [
    "### FIND CLOSEST VALUE IN BST\n",
    "Write a function that takes in a Binary Search Tree(BST) and a target integer value and returns the closest value to that target value contained in the BST.\n",
    "You can assume that there will only be one closest value.\n",
    "Each BST node has an integer value, a left child node, and a right child node. A node is said to be a valid BST node if and only if it satisfies the BST property: its value is strictly greater than the values of every node to its left; its value is less than or equal to the values of every node ot its right; and its children nodes are either valid BST nodes themselves of None / null.\n",
    "\n",
    "<**Sample Input**>\n",
    "```\n",
    "tree =    10\n",
    "        /     \\\n",
    "      5        15\n",
    "     /  \\     /   \\\n",
    "    2    5   13    22\n",
    "   /           \\\n",
    "  1             14\n",
    "```\n",
    "<**Sample Output**>\n",
    "```\n",
    "13\n",
    "```\n",
    "<**Question**>\n",
    "```\n",
    "def findClosestValueInBst(tree, target):\n",
    "    # Write your code here.\n",
    "    pass\n",
    "\n",
    "# This is the class of the input tree. Do not edit.\n",
    "class BST:\n",
    "    def __init__(self, value):\n",
    "        self.value = value\n",
    "        self.left = None\n",
    "        self.right = None\n",
    "\n",
    "```"
   ]
  },
  {
   "cell_type": "code",
   "execution_count": 7,
   "metadata": {},
   "outputs": [
    {
     "name": "stdout",
     "output_type": "stream",
     "text": [
      "10\n"
     ]
    }
   ],
   "source": [
    "def findClosestValueInBst(tree, target):\n",
    "    current = tree\n",
    "    closest = tree.value\n",
    "    while current is not None:\n",
    "        if abs(target-closest) > abs(target-current.value):\n",
    "            closest = current.value\n",
    "        if target < current.value:\n",
    "            current = current.left\n",
    "        elif target > current.value:\n",
    "            current = current.right\n",
    "        else: # when target == current.value\n",
    "            return current.value\n",
    "        return closest\n",
    "\n",
    "# This is the class of the input tree. Do not edit.\n",
    "class BST:\n",
    "    def __init__(self, value):\n",
    "        self.value = value\n",
    "        self.left = None\n",
    "        self.right = None\n",
    "\n",
    "# Test\n",
    "if __name__ == '__main__': \n",
    "    root = BST(10)\n",
    "    root.left = BST(5)\n",
    "    root.left.left = BST(2)\n",
    "    root.left.right = BST(5)\n",
    "    root.left.left.left = BST(1)\n",
    "    root.right = BST(15)\n",
    "    root.right.left = BST(13)\n",
    "    root.right.right = BST(22)\n",
    "    root.right.left.right = BST(14)\n",
    "    k = 12\n",
    "    print(findClosestValueInBst(root, k))"
   ]
  },
  {
   "cell_type": "code",
   "execution_count": 8,
   "metadata": {},
   "outputs": [],
   "source": [
    "def findClosestValueInBst(tree, target):\n",
    "        current = tree\n",
    "        closest = tree.value\n",
    "        while current is not None:\n",
    "            if abs(target-closest) > abs(target-current.value):\n",
    "                closest = current.value\n",
    "            if target < current.value:\n",
    "                current = current.left\n",
    "            elif target > current.value:\n",
    "                current = current.right\n",
    "            else:\n",
    "                return current.value\n",
    "            return closest\n",
    "        \n",
    "class BST:\n",
    "    def __init__(self, value):\n",
    "        self.value = value\n",
    "        self.left = None\n",
    "        self.right = None\n",
    "    \n",
    "if __name__ == 'main':\n",
    "    root = BST(10)\n",
    "    root.left = BST(5)\n",
    "    root.left.left = BST(2)\n",
    "    root.left.right = BST(5)\n",
    "    root.left.left.left = BST(1)\n",
    "    root.right = BST(15)\n",
    "    root.right.left = BST(13)\n",
    "    root.right.right = BST(22)\n",
    "    root.right.left.right = BST(14)\n",
    "    k = 12\n",
    "    print(findClosestValueInBst(root, k))"
   ]
  },
  {
   "cell_type": "markdown",
   "metadata": {},
   "source": [
    "### NODE DEPTHS### NODE DEPTHS\n",
    "The distance between a node in a Binary Tree and the tree's root is called the node's depth.\n",
    "Write a function that takes in a Binary Tree and returns the sum of its nodes' depths.\n",
    "Each `BinaryTree` node has an integer `value`, a `left` child node, and a `right` child node. Children nodes can either be `BinaryTree` nodes themsevles or `None` / `null`.\n",
    "\n",
    "<**Sample Input**>\n",
    "```\n",
    "tree =    1\n",
    "        /    \\\n",
    "      2        3\n",
    "    /  \\      /  \\\n",
    "   4    5    6    7\n",
    "  / \\\n",
    " 8   9            \n",
    "```\n",
    "<**Sample Output**>\n",
    "```\n",
    "16\n",
    "// the depth of the node with value 2 is 1\n",
    "// the depth of the node with value 3 is 1\n",
    "// the depth of the node with value 4 is 2\n",
    "// the depth of the node with value 5 is 2\n",
    "// ...\n",
    "// Summing all of these depths yields 16\n",
    "```\n",
    "<**Question**>\n",
    "```\n",
    "def nodeDepths(root):\n",
    "    # Write your code here.\n",
    "    pass\n",
    "\n",
    "# This is the class of the input binary tree.\n",
    "class BinaryTree:\n",
    "    def __init__(self, value):\n",
    "        self.value = value\n",
    "        self.left = None\n",
    "        self.right = None\n",
    "```\n",
    "- The depth of a node is the number of edges from the node to the tree's root node. A root node will have a depth of 0.\n",
    "- The height of a node is the number of edges on the longest path from the node to a leaf. A leaf node will have a height of 0."
   ]
  },
  {
   "cell_type": "code",
   "execution_count": 10,
   "metadata": {},
   "outputs": [
    {
     "name": "stdout",
     "output_type": "stream",
     "text": [
      "16\n"
     ]
    }
   ],
   "source": [
    "def nodeDepths(root, depth=0):\n",
    "    if root is None:\n",
    "        return 0\n",
    "    return depth + nodeDepths(root.left, depth+1) + nodeDepths(root.right, depth+1)\n",
    "\n",
    "\n",
    "\n",
    "\n",
    "# This is the class of the input binary tree.\n",
    "class BinaryTree:\n",
    "    def __init__(self, value):\n",
    "        self.value = value\n",
    "        self.left = None\n",
    "        self.right = None\n",
    "        \n",
    "if __name__ == '__main__':\n",
    "    root = BinaryTree(1)\n",
    "    root.left = BinaryTree(2)\n",
    "    root.left.left = BinaryTree(4)\n",
    "    root.left.right = BinaryTree(5)\n",
    "    root.left.left.left= BinaryTree(8)\n",
    "    root.left.left.right = BinaryTree(9)\n",
    "    root.right = BinaryTree(3)\n",
    "    root.right.left = BinaryTree(6)\n",
    "    root.right.right = BinaryTree(7)\n",
    "    print(nodeDepths(root))"
   ]
  },
  {
   "cell_type": "code",
   "execution_count": 11,
   "metadata": {},
   "outputs": [],
   "source": [
    "def nodeDepth(root, depth = 0):\n",
    "    if root is None:\n",
    "        return\n",
    "    return depth + nodeDepth(root.left, depth+1) + nodeDepth(root.right, depth+1)\n",
    "\n",
    "class BinaryTree:\n",
    "    def __init__(self, value):\n",
    "        self.value = value\n",
    "        self.left = None\n",
    "        self.right = None"
   ]
  },
  {
   "cell_type": "code",
   "execution_count": 12,
   "metadata": {},
   "outputs": [
    {
     "name": "stdout",
     "output_type": "stream",
     "text": [
      "16\n"
     ]
    }
   ],
   "source": [
    "def nodeDepths(root):\n",
    "    sumOfDepths = 0\n",
    "    stack = [{'node': root, 'depth': 0}]\n",
    "    while stack:\n",
    "        newNode = stack.pop()\n",
    "        node, depth = newNode[\"node\"], newNode[\"depth\"]\n",
    "        if node is None:\n",
    "            continue\n",
    "        sumOfDepths += newNode['depth']\n",
    "        stack.append({'node': node.right, 'depth': depth+1})\n",
    "        stack.append({'node': node.left, 'depth': depth+1})\n",
    "    return sumOfDepths\n",
    "\n",
    "class BinaryTree:\n",
    "    def __init__(self, value):\n",
    "        self.value = value\n",
    "        self.left = None\n",
    "        self.right = None\n",
    "        \n",
    "if __name__ == '__main__':\n",
    "    root = BinaryTree(1)\n",
    "    root.left = BinaryTree(2)\n",
    "    root.left.left = BinaryTree(4)\n",
    "    root.left.right = BinaryTree(5)\n",
    "    root.left.left.left= BinaryTree(8)\n",
    "    root.left.left.right = BinaryTree(9)\n",
    "    root.right = BinaryTree(3)\n",
    "    root.right.left = BinaryTree(6)\n",
    "    root.right.right = BinaryTree(7)\n",
    "    print(nodeDepths(root))"
   ]
  },
  {
   "cell_type": "markdown",
   "metadata": {},
   "source": [
    "## Smallest Difference\n",
    "Write a function that takes in two non-empty arrays of integers, finds the pair of numbers(one from each array) whose absolute difference is closest to zero, and returns an array containing these two numbers, with the number from the first array in the first position.\\\n",
    "Note that the absolute difference of two integers is the distance between them on the real number line. For example, the absolute difference of -5 and 5 is 10, and the absolute difference of -5 and -4 is 1.\\\n",
    "You can assume that there will only be one pair of numbers with the smallest difference.\n",
    "#### Sample Input\n",
    "```\n",
    "arrayOne = [-1, 5, 10, 20, 28, 3]\n",
    "arrayTwo = [26, 134, 135, 15, 17]\n",
    "```\n",
    "#### Sample Output\n",
    "```\n",
    "[26, 28]\n",
    "```"
   ]
  },
  {
   "cell_type": "code",
   "execution_count": null,
   "metadata": {},
   "outputs": [],
   "source": [
    "def smallestDifference(arrayOne, arrayTwo):\n",
    "    arrayOne.sort()\n",
    "    arrayTwo.sort()\n",
    "    oneIdx, twoIdx = 0, 0\n",
    "    smallestPair = [arrayOne[0], arrayTwo[0]]\n",
    "    while oneIdx < len(arrayOne) and twoIdx < len(arrayTwo):\n",
    "        first, second = arrayOne[oneIdx], arrayTwo[twoIdx]\n",
    "        if abs(first - second) < abs(smallestPair[1]-smallestPair[0]):\n",
    "            smallestPair[0], smallestPair[1] = first, second\n",
    "        if first == second:\n",
    "            return\n",
    "        elif first > second:\n",
    "            twoIdx += 1\n",
    "        else:\n",
    "            oneIdx += 1\n",
    "    return smallestPair"
   ]
  },
  {
   "attachments": {},
   "cell_type": "markdown",
   "metadata": {},
   "source": [
    "# B L I N D 75"
   ]
  },
  {
   "attachments": {},
   "cell_type": "markdown",
   "metadata": {},
   "source": [
    "## A R R A Y & H A S H I N G"
   ]
  },
  {
   "cell_type": "markdown",
   "metadata": {},
   "source": [
    "### CONTAIN DUPLICATE  <Blind 75>\n",
    "\n",
    "Given an integer array nums, return true if any value appears at least twice in the array, and return false if every element is distinct.\n",
    "\n",
    "<**Sample Input 1**>\n",
    "```\n",
    "Input: nums = [1,2,3,1]\n",
    "```\n",
    "<**Sample Output 1**>\n",
    "```\n",
    "Output: true\n",
    "```\n",
    "<**Sample Input 2**>\n",
    "```\n",
    "Input: nums = [1,2,3,4]\n",
    "```\n",
    "<**Sample Output 2**>\n",
    "```\n",
    "Output: false\n",
    "```\n",
    "<**Sample Input 3**>\n",
    "```\n",
    "Input: nums = [1,1,1,3,3,4,3,2,4,2]\n",
    "```\n",
    "<**Sample Output 3**>\n",
    "```\n",
    "Output: true\n",
    "```\n",
    "\n",
    "<**Question**>\n",
    "```\n",
    "def containsDuplicate(nums):\n",
    "  # Write your code here\n",
    "  pass\n",
    "```\n",
    "\n",
    "<**Constraints**>\n",
    "- 1 <= nums.length <= 105\n",
    "- -109 <= nums[i] <= 109"
   ]
  },
  {
   "attachments": {},
   "cell_type": "markdown",
   "metadata": {},
   "source": [
    "Solution 1\n",
    "- Time Complexity: O(N)\n",
    "- Space Complexity: O(N)"
   ]
  },
  {
   "cell_type": "code",
   "execution_count": 6,
   "metadata": {},
   "outputs": [
    {
     "data": {
      "text/plain": [
       "False"
      ]
     },
     "execution_count": 6,
     "metadata": {},
     "output_type": "execute_result"
    }
   ],
   "source": [
    "def containsDuplicate(nums):\n",
    "    mySet = set()\n",
    "    for num in nums:\n",
    "        if num in mySet:\n",
    "            return True\n",
    "        mySet.add(num)\n",
    "    return False\n",
    "\n",
    "# nums = [1,1,1,3,3,4,3,2,3,4]\n",
    "nums = [1]\n",
    "containsDuplicate(nums)"
   ]
  },
  {
   "attachments": {},
   "cell_type": "markdown",
   "metadata": {},
   "source": [
    "Solution 2\n",
    "- Time Complexity: O(NlogN)\n",
    "- Space Complexity: O(1)"
   ]
  },
  {
   "cell_type": "code",
   "execution_count": 5,
   "metadata": {},
   "outputs": [
    {
     "data": {
      "text/plain": [
       "False"
      ]
     },
     "execution_count": 5,
     "metadata": {},
     "output_type": "execute_result"
    }
   ],
   "source": [
    "def containsDuplicate(nums):\n",
    "    nums.sort()\n",
    "    for idx in range(len(nums)-1):\n",
    "        if nums[idx] == nums[idx+1]:\n",
    "            return True\n",
    "    return False\n",
    "\n",
    "# nums = [1,1,1,3,3,4,3,2,3,4]\n",
    "# nums =[1]\n",
    "containsDuplicate(nums)"
   ]
  },
  {
   "cell_type": "markdown",
   "metadata": {},
   "source": [
    "### TWO NUMBER SUM <Blind 75>\n",
    "Given an array of integers nums and an integer target, return indices of the two numbers such that they add up to target.\n",
    "\n",
    "You may assume that each input would have exactly one solution, and you may not use the same element twice.\n",
    "\n",
    "You can return the answer in any order.\n",
    "\n",
    "<**Example 1**>\n",
    "```\n",
    "Input: nums = [2,7,11,15], target = 9\n",
    "Output: [0,1]\n",
    "Explanation: Because nums[0] + nums[1] == 9, we return [0, 1].\n",
    "```\n",
    "<**Example 2**>\n",
    "```\n",
    "Input: nums = [3,2,4], target = 6\n",
    "Output: [1,2]\n",
    "```\n",
    "<**Example 3**>\n",
    "```\n",
    "Input: nums = [3,3], target = 6\n",
    "Output: [0,1]\n",
    "```\n",
    "\n",
    "<**Question**>\n",
    "```\n",
    "def twoSum(nums):\n",
    "  # Write your code here\n",
    "  pass\n",
    "```\n",
    "\n",
    "<**Constraints**>\n",
    "- 2 <= nums.length <= 10^4\n",
    "- -10^9 <= nums[i] <= 10^9\n",
    "- -10^9 <= target <= 10^9\n",
    "- Only one valid answer exists."
   ]
  },
  {
   "attachments": {},
   "cell_type": "markdown",
   "metadata": {},
   "source": [
    "Solution\n",
    "- Time Complexity: O(N)\n",
    "- Space Complexity: O(N) => We can potentially add every value to the hash map"
   ]
  },
  {
   "cell_type": "code",
   "execution_count": 1,
   "metadata": {},
   "outputs": [
    {
     "data": {
      "text/plain": [
       "[0, 1]"
      ]
     },
     "execution_count": 1,
     "metadata": {},
     "output_type": "execute_result"
    }
   ],
   "source": [
    "# This solution can work for the following reasons:\n",
    "# There is only one answer pair\n",
    "# Although we didn't sort the array, when we get to the first answer value,\n",
    "# the preMap will not have the second value (because the dictionary only contains values that come before it)\n",
    "\n",
    "def twoSum(nums, target):\n",
    "    preMap = {}\n",
    "    for idx, value in enumerate(nums):\n",
    "        diff = target - value\n",
    "        if diff in preMap:\n",
    "            return [preMap[diff], idx]\n",
    "        preMap[value] = idx\n",
    "\n",
    "nums = [2, 7, 11, 15]\n",
    "target = 9\n",
    "twoSum(nums, target)"
   ]
  },
  {
   "cell_type": "markdown",
   "metadata": {},
   "source": [
    "### THREE NUMBER SUM <Blind 75>\n",
    "\n",
    "Given an integer array nums, return all the triplets `[nums[i], nums[j], nums[k]]` such that `i != j`, `i != k`, and `j != k`, and `nums[i] + nums[j] + nums[k] == 0`.\n",
    "\n",
    "Notice that the solution set must not contain duplicate triplets.\n",
    "\n",
    " \n",
    "<**Example 1**>\n",
    "```\n",
    "Input: nums = [-1,0,1,2,-1,-4]\n",
    "Output: [[-1,-1,2],[-1,0,1]]\n",
    "Explanation: \n",
    "nums[0] + nums[1] + nums[2] = (-1) + 0 + 1 = 0.\n",
    "nums[1] + nums[2] + nums[4] = 0 + 1 + (-1) = 0.\n",
    "nums[0] + nums[3] + nums[4] = (-1) + 2 + (-1) = 0.\n",
    "The distinct triplets are [-1,0,1] and [-1,-1,2].\n",
    "Notice that the order of the output and the order of the triplets does not matter.\n",
    "```\n",
    "<**Example 2**>\n",
    "```\n",
    "Input: nums = [0,1,1]\n",
    "Output: []\n",
    "Explanation: The only possible triplet does not sum up to 0.\n",
    "```\n",
    "<**Example 3**>\n",
    "```\n",
    "Input: nums = [0,0,0]\n",
    "Output: [[0,0,0]]\n",
    "Explanation: The only possible triplet sums up to 0.\n",
    "```\n",
    "<**Question**>\n",
    "```\n",
    "def threeSum(nums):\n",
    "    # Write your code here.\n",
    "    pass\n",
    "```\n",
    "<**Constraints**>\n",
    "- 3 <= nums.length <= 3000\n",
    "- -10^5 <= nums[i] <= 10^5"
   ]
  },
  {
   "attachments": {},
   "cell_type": "markdown",
   "metadata": {},
   "source": [
    "Solution\n",
    "- Time Complexity: O(N^2)\n",
    "- Space Complexity: O(1) => or can be O(N) because sorting does take extra memory in some libraries"
   ]
  },
  {
   "cell_type": "code",
   "execution_count": 34,
   "metadata": {},
   "outputs": [
    {
     "name": "stdout",
     "output_type": "stream",
     "text": [
      "[[-1, -1, 2], [-1, 0, 1]]\n"
     ]
    }
   ],
   "source": [
    "def threeSum(nums):\n",
    "    nums.sort()\n",
    "    resultArray = []\n",
    "    \n",
    "    for idx in range(len(nums)-2):\n",
    "        # prevent duplication of first\n",
    "        if idx > 0 and nums[idx] == nums[idx-1]:\n",
    "            continue\n",
    "        \n",
    "        left, right = idx + 1, len(nums) - 1\n",
    "        \n",
    "        while left < right:\n",
    "            totalSum = nums[idx] + nums[left] + nums[right]\n",
    "            if totalSum == 0:\n",
    "                resultArray.append([nums[idx], nums[left], nums[right]])\n",
    "                left += 1\n",
    "                # prevent duplication of second\n",
    "                while left < right and nums[left] == nums[left-1]:\n",
    "                    left += 1\n",
    "            elif totalSum > 0:\n",
    "                right -= 1\n",
    "            else: \n",
    "                left +=1\n",
    "    return resultArray\n",
    "\n",
    "numbers = [-1,0,1,2,-1,-4]\n",
    "\n",
    "# total - a = b + c\n",
    "#   i\n",
    "# [-2, 0, 0, 2, 2]\n",
    "#      l        r\n",
    "# totalSum = 2\n",
    "# resArr = [[-2, 0, 2], ]\n",
    "# idx = 0\n",
    "# left = 1(idx+1)\n",
    "# right = 4(len(nums-1))\n",
    "\n",
    "print(threeSum(numbers))"
   ]
  },
  {
   "attachments": {},
   "cell_type": "markdown",
   "metadata": {},
   "source": [
    "### PALINDROME CHECK <Blind 75>\n",
    "A phrase is a palindrome if, after converting all uppercase letters into lowercase letters and removing all non-alphanumeric characters, it reads the same forward and backward. Alphanumeric characters include letters and numbers.\n",
    "\n",
    "Given a string s, return true if it is a *palindrome*, or false otherwise.\n",
    "\n",
    "<**Example 1**>\n",
    "```\n",
    "Input: s = \"A man, a plan, a canal: Panama\"\n",
    "Output: true\n",
    "Explanation: \"amanaplanacanalpanama\" is a palindrome.\n",
    "```\n",
    "<**Example 2**>\n",
    "```\n",
    "Input: s = \"race a car\"\n",
    "Output: false\n",
    "Explanation: \"raceacar\" is not a palindrome.\n",
    "```\n",
    "<**Example 3**>\n",
    "```\n",
    "Input: s = \" \"\n",
    "Output: true\n",
    "Explanation: s is an empty string \"\" after removing non-alphanumeric characters.\n",
    "Since an empty string reads the same forward and backward, it is a palindrome.\n",
    "```\n",
    "<**Question**>\n",
    "```\n",
    "def isPalindrome(string):\n",
    "    # Write your code here\n",
    "    pass\n",
    "```\n",
    "<**Constraints**>\n",
    "- 1 <= s.length <= 2*105\n",
    "- s consists only of printable ASCII characters.\n"
   ]
  },
  {
   "attachments": {},
   "cell_type": "markdown",
   "metadata": {},
   "source": [
    "Solution\n",
    "- Time Complexity: O(N)\n",
    "- Space Complexity: O(1)"
   ]
  },
  {
   "cell_type": "code",
   "execution_count": 2,
   "metadata": {},
   "outputs": [
    {
     "name": "stdout",
     "output_type": "stream",
     "text": [
      "True\n"
     ]
    }
   ],
   "source": [
    "def isPalindrome(s):\n",
    "    start, end = 0, len(s)-1\n",
    "    while start < end:\n",
    "        while start < end and not alphanum(s[start]):\n",
    "            start += 1\n",
    "        while start < end and not alphanum(s[end]):\n",
    "            end -= 1\n",
    "        if s[start].lower() != s[end].lower():\n",
    "            return False\n",
    "        start += 1\n",
    "        end -= 1\n",
    "    return True\n",
    "        \n",
    "def alphanum(char):\n",
    "    return (ord('a') <= ord(char) <= ord('z')\n",
    "        or ord('A') <= ord(char) <= ord('Z')\n",
    "        or ord('0') <= ord(char) <= ord('9'))\n",
    "\n",
    "string = \"A man, a plan, a canal: Panama\"\n",
    "print(isPalindrome(string))"
   ]
  },
  {
   "attachments": {},
   "cell_type": "markdown",
   "metadata": {},
   "source": [
    "## B I T _ M A N I P U L A T I O N"
   ]
  },
  {
   "cell_type": "markdown",
   "metadata": {},
   "source": [
    "### NUMBER OF 1 BITS <Blind 75>\n",
    "Write a function that takes an unsigned integer and returns the number of '1' bits it has (also known as the Hamming weight).\n",
    "\n",
    "Note:\n",
    "- Note that in some languages, such as Java, there is no unsigned integer type. In this case, the input will be given as a signed integer type. It should not affect your implementation, as the integer's internal binary representation is the same, whether it is signed or unsigned.\n",
    "- In Java, the compiler represents the signed integers using 2's complement notation. Therefore, in Example 3, the input represents the signed integer. -3.\n",
    "\n",
    "<**Example 1**>\n",
    "```\n",
    "Input: n = 00000000000000000000000000001011\n",
    "Output: 3\n",
    "Explanation: The input binary string 00000000000000000000000000001011 has a total of three '1' bits.\n",
    "```\n",
    "<**Example 2**>\n",
    "```\n",
    "Input: n = 00000000000000000000000010000000\n",
    "Output: 1\n",
    "Explanation: The input binary string 00000000000000000000000010000000 has a total of one '1' bit.\n",
    "```\n",
    "<**Example 3**>\n",
    "```\n",
    "Input: n = 11111111111111111111111111111101\n",
    "Output: 31\n",
    "Explanation: The input binary string 11111111111111111111111111111101 has a total of thirty one '1' bits.\n",
    "```\n",
    "<**Question**>\n",
    "```\n",
    "def hammingWeight(n):\n",
    "  pass\n",
    "```\n",
    "\n",
    "<**Constraints**>\n",
    "- The input must be a binary string of length 32.\n"
   ]
  },
  {
   "attachments": {},
   "cell_type": "markdown",
   "metadata": {},
   "source": [
    "Solution 1\n",
    "- Time Complexity: O(1)\n",
    "- Space Complexity: O(1)"
   ]
  },
  {
   "cell_type": "code",
   "execution_count": 9,
   "metadata": {},
   "outputs": [
    {
     "name": "stdout",
     "output_type": "stream",
     "text": [
      "8\n"
     ]
    }
   ],
   "source": [
    "def hammingWeight(n):\n",
    "    count = 0\n",
    "    while n:\n",
    "        count += n % 2\n",
    "        n = n >> 1\n",
    "    return count\n",
    "\n",
    "n = int('1011111110',2)\n",
    "print(hammingWeight(n))"
   ]
  },
  {
   "attachments": {},
   "cell_type": "markdown",
   "metadata": {},
   "source": [
    "Solution 2 (Better)\n",
    "- Time Complexity:\n",
    "- Space Complexity: O(1)\n",
    "\n",
    "Key Idea\n",
    "- Solution 1 works fine, but this is a more efficient way.\n",
    "- 10000001(2) is an example where Solution 1 runs not efficiently (for having to go through the whole thing even when there are only 2 ones)\n",
    "- This solution helps skipping 0s"
   ]
  },
  {
   "cell_type": "code",
   "execution_count": 12,
   "metadata": {},
   "outputs": [
    {
     "name": "stdout",
     "output_type": "stream",
     "text": [
      "2\n"
     ]
    }
   ],
   "source": [
    "# Solution 1 works fine, but this is a more efficient way\n",
    "\n",
    "# 1000 0001 ==> 1 + 2^7 = 129\n",
    "# 1000 0000 ==> 2^7 = 128\n",
    "# n = n & (n-1)\n",
    "# 0111 1111 ==> 2^6 + 2^5 + 2^4 + 2^3 + 2^2 + 2^1 + 2^0 = 127\n",
    "# 0111 1110 ==> 126\n",
    "def hammingWeightTwo(n):\n",
    "    count = 0\n",
    "    while n:\n",
    "        n &= (n-1) # n = n & (n-1) helps deleting the rightmost 1\n",
    "        count += 1\n",
    "    return count\n",
    "n = int('10000001',2)\n",
    "print(hammingWeightTwo(n))"
   ]
  },
  {
   "cell_type": "markdown",
   "metadata": {},
   "source": [
    "### COUNTING BITS <Blind 75>\n",
    "\n",
    "Given an integer n, return an array ans of length n + 1 such that for each i (0 <= i <= n), ans[i] is the number of 1's in the binary representation of i.\n",
    "\n",
    "\n",
    "<**Example 1**>\n",
    "```\n",
    "Input: n = 2\n",
    "Output: [0,1,1]\n",
    "Explanation:\n",
    "0 --> 0\n",
    "1 --> 1\n",
    "2 --> 10\n",
    "```\n",
    "<**Example 2**>\n",
    "```\n",
    "Input: n = 5\n",
    "Output: [0,1,1,2,1,2]\n",
    "Explanation:\n",
    "0 --> 0\n",
    "1 --> 1\n",
    "2 --> 10\n",
    "3 --> 11\n",
    "4 --> 100\n",
    "5 --> 101\n",
    "```\n",
    "\n",
    "<**Constraints**>\n",
    "- 0 <= n <= 10^5\n",
    " \n",
    "\n",
    "<**Note**>\n",
    "- It is very easy to come up with a solution with a runtime of O(n log n).\n",
    "- Can you do it in linear time O(n) and possibly in a single pass?\n",
    "- Can you do it without using any built-in function (i.e., like __builtin_popcount in C++)?"
   ]
  },
  {
   "attachments": {},
   "cell_type": "markdown",
   "metadata": {},
   "source": [
    "Solution\n",
    "- Time Complexity: O(N)\n",
    "- Space Complexity: O(N)\n",
    "\n",
    "Key Idea\n",
    "- This is also DYNAMIC PROGRAMMING.\n",
    "- Brute Force : for each index, turn the index into a binary number and count 1 (just like we did in Solution 1 of 'Number of 1 Bits' question).\n",
    "    - But, time complexity is O(NlogN) : each operation to"
   ]
  },
  {
   "cell_type": "code",
   "execution_count": 3,
   "metadata": {},
   "outputs": [
    {
     "name": "stdout",
     "output_type": "stream",
     "text": [
      "[0, 1, 1, 2, 1, 2]\n"
     ]
    }
   ],
   "source": [
    "# Pattern: 0(0), 1(1), 2(10), 3(11), 4(100), 5(101), 6(110), 7(111), 8(1000),....\n",
    "# 0000, 0001, 0010, 0011, 0100, 0101, 0110, 0111, 1000, ...\n",
    "# 0, 1 | 1, 2 | 1, 2, 2, 3 | 1, ...\n",
    "\n",
    "def countingBits(n):\n",
    "    ans = [0] * (n+1)\n",
    "    offset = 1\n",
    "    for idx in range(1, n+1):\n",
    "        if idx == offset * 2:\n",
    "            offset *= 2\n",
    "        ans[idx] = ans[idx - offset] + 1\n",
    "    return ans\n",
    "\n",
    "n = 5\n",
    "print(countingBits(n))"
   ]
  },
  {
   "cell_type": "markdown",
   "metadata": {},
   "source": [
    "### REVERSE BITS <Blind 75>\n",
    "\n",
    "Reverse bits of a given 32 bits unsigned integer.\n",
    "\n",
    "Note:\n",
    "- Note that in some languages, such as Java, there is no unsigned integer type. In this case, both input and output will be given as a signed integer type. They should not affect your implementation, as the integer's internal binary representation is the same, whether it is signed or unsigned.\n",
    "- In Java, the compiler represents the signed integers using 2's complement notation. Therefore, in Example 2 above, the input represents the signed integer `-3` and the output represents the signed integer `-1073741825`.\n",
    "\n",
    "\n",
    "<**Example 1**>\n",
    "```\n",
    "Input: n = 00000010100101000001111010011100\n",
    "Output: 964176192 (00111001011110000010100101000000)\n",
    "\n",
    "Explanation: The input binary string 00000010100101000001111010011100 represents the unsigned integer 43261596, so return 964176192 which its binary representation is 00111001011110000010100101000000.\n",
    "```\n",
    "<**Example 2**>\n",
    "```\n",
    "Input: n = 11111111111111111111111111111101\n",
    "Output: 3221225471 (10111111111111111111111111111111)\n",
    "\n",
    "Explanation: The input binary string 11111111111111111111111111111101 represents the unsigned integer 4294967293, so return 3221225471 which its binary representation is 10111111111111111111111111111111.\n",
    "```\n",
    "\n",
    "<**Constraints**>\n",
    "- The input must be a binary string of length 32"
   ]
  },
  {
   "attachments": {},
   "cell_type": "markdown",
   "metadata": {},
   "source": [
    "Solution\n",
    "- Time Complexity: O()\n",
    "- Space Complexity: O()"
   ]
  },
  {
   "cell_type": "code",
   "execution_count": 10,
   "metadata": {},
   "outputs": [
    {
     "name": "stdout",
     "output_type": "stream",
     "text": [
      "964176192\n"
     ]
    }
   ],
   "source": [
    "# Not using Bit manipulation\n",
    "def reverseBits(n):\n",
    "    newBits = []\n",
    "    while n:\n",
    "        newBits.append(str(n % 2))\n",
    "        n = n // 2\n",
    "    for i in range(32-len(newBits)):\n",
    "        newBits.append('0')\n",
    "    binString = ''.join(newBits)\n",
    "    return int(binString,2)\n",
    "x\n",
    "n = int('00000010100101000001111010011100',2)\n",
    "print(reverseBits(n))\n"
   ]
  },
  {
   "cell_type": "code",
   "execution_count": 9,
   "metadata": {},
   "outputs": [
    {
     "name": "stdout",
     "output_type": "stream",
     "text": [
      "964176192\n"
     ]
    }
   ],
   "source": [
    "# Using Bit manipulation\n",
    "def reverseBitsTwo(n):\n",
    "    res = 0\n",
    "    for bitIdx in range(32):\n",
    "        newBits = ( n >> bitIdx ) & 1\n",
    "        res = res | newBits << (31 - bitIdx)\n",
    "    return res\n",
    "\n",
    "n = int('00000010100101000001111010011100',2)\n",
    "print(reverseBitsTwo(n))"
   ]
  },
  {
   "attachments": {},
   "cell_type": "markdown",
   "metadata": {},
   "source": [
    "## STACK"
   ]
  },
  {
   "cell_type": "markdown",
   "metadata": {},
   "source": [
    "### Valid Parentheses / Balanced Brackets <Blind 75>\n",
    "Given a string s containing just the characters `'(', ')', '{', '}', '[' and ']'`, determine if the input string is valid.\n",
    "\n",
    "An input string is valid if:\n",
    "- Open brackets must be closed by the same type of brackets.\n",
    "- Open brackets must be closed in the correct order.\n",
    "- Every close bracket has a corresponding open bracket of the same type.\n",
    " \n",
    "<**Example 1**>\n",
    "```\n",
    "Input: s = \"()\"\n",
    "Output: true\n",
    "```\n",
    "<**Example 2**>\n",
    "```\n",
    "Input: s = \"()[]{}\"\n",
    "Output: true\n",
    "```\n",
    "<**Example 3**>\n",
    "```\n",
    "Input: s = \"(]\"\n",
    "Output: false\n",
    "```\n",
    "\n",
    "<**Constraints**>\n",
    "- 1 <= s.length <= 104\n",
    "- s consists of parentheses only '()[]{}'."
   ]
  },
  {
   "attachments": {},
   "cell_type": "markdown",
   "metadata": {},
   "source": [
    "Solution\n",
    "- Time Complexity: O(N)\n",
    "- Space Complexity: O(N)"
   ]
  },
  {
   "cell_type": "code",
   "execution_count": 7,
   "metadata": {},
   "outputs": [
    {
     "name": "stdout",
     "output_type": "stream",
     "text": [
      "True\n"
     ]
    }
   ],
   "source": [
    "def isValid(s):\n",
    "    closing = {')':'(', '}':'{', ']':'['}\n",
    "    stack = []\n",
    "    \n",
    "    for bracket in s:\n",
    "        if bracket not in closing:\n",
    "            stack.append(bracket)\n",
    "        else:\n",
    "            if not stack or closing[bracket] != stack[-1]:\n",
    "                return False\n",
    "            else:\n",
    "                stack.pop()\n",
    "            \n",
    "    return len(stack) == 0\n",
    "\n",
    "s = '(){}'\n",
    "print(isValid(s))\n"
   ]
  }
 ],
 "metadata": {
  "kernelspec": {
   "display_name": "Python 3.10.7 64-bit",
   "language": "python",
   "name": "python3"
  },
  "language_info": {
   "codemirror_mode": {
    "name": "ipython",
    "version": 3
   },
   "file_extension": ".py",
   "mimetype": "text/x-python",
   "name": "python",
   "nbconvert_exporter": "python",
   "pygments_lexer": "ipython3",
   "version": "3.10.7"
  },
  "orig_nbformat": 4,
  "vscode": {
   "interpreter": {
    "hash": "aee8b7b246df8f9039afb4144a1f6fd8d2ca17a180786b69acc140d282b71a49"
   }
  }
 },
 "nbformat": 4,
 "nbformat_minor": 2
}
