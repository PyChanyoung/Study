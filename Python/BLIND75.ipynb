{
 "cells": [
  {
   "attachments": {},
   "cell_type": "markdown",
   "metadata": {},
   "source": [
    "# B L I N D 75"
   ]
  },
  {
   "attachments": {},
   "cell_type": "markdown",
   "metadata": {},
   "source": [
    "## A R R A Y & H A S H I N G"
   ]
  },
  {
   "attachments": {},
   "cell_type": "markdown",
   "metadata": {},
   "source": [
    "### CONTAIN DUPLICATE  <Blind 75>\n",
    "\n",
    "Given an integer array nums, return true if any value appears at least twice in the array, and return false if every element is distinct.\n",
    "\n",
    "<**Sample Input 1**>\n",
    "```\n",
    "Input: nums = [1,2,3,1]\n",
    "```\n",
    "<**Sample Output 1**>\n",
    "```\n",
    "Output: true\n",
    "```\n",
    "<**Sample Input 2**>\n",
    "```\n",
    "Input: nums = [1,2,3,4]\n",
    "```\n",
    "<**Sample Output 2**>\n",
    "```\n",
    "Output: false\n",
    "```\n",
    "<**Sample Input 3**>\n",
    "```\n",
    "Input: nums = [1,1,1,3,3,4,3,2,4,2]\n",
    "```\n",
    "<**Sample Output 3**>\n",
    "```\n",
    "Output: true\n",
    "```\n",
    "\n",
    "<**Question**>\n",
    "```\n",
    "def containsDuplicate(nums):\n",
    "  # Write your code here\n",
    "  pass\n",
    "```\n",
    "\n",
    "<**Constraints**>\n",
    "- 1 <= nums.length <= 105\n",
    "- -109 <= nums[i] <= 109"
   ]
  },
  {
   "attachments": {},
   "cell_type": "markdown",
   "metadata": {},
   "source": [
    "Solution 1\n",
    "- Time Complexity: O(N)\n",
    "- Space Complexity: O(N)"
   ]
  },
  {
   "cell_type": "code",
   "execution_count": 1,
   "metadata": {},
   "outputs": [
    {
     "data": {
      "text/plain": [
       "False"
      ]
     },
     "execution_count": 1,
     "metadata": {},
     "output_type": "execute_result"
    }
   ],
   "source": [
    "def containsDuplicate(nums):\n",
    "    mySet = set()\n",
    "    for num in nums:\n",
    "        if num in mySet:\n",
    "            return True\n",
    "        mySet.add(num)\n",
    "    return False\n",
    "\n",
    "# nums = [1,1,1,3,3,4,3,2,3,4]\n",
    "nums = [1]\n",
    "containsDuplicate(nums)"
   ]
  },
  {
   "attachments": {},
   "cell_type": "markdown",
   "metadata": {},
   "source": [
    "Solution 2\n",
    "- Time Complexity: O(NlogN)\n",
    "- Space Complexity: O(1)"
   ]
  },
  {
   "cell_type": "code",
   "execution_count": null,
   "metadata": {},
   "outputs": [],
   "source": [
    "def containsDuplicate(nums):\n",
    "    nums.sort()\n",
    "    for idx in range(len(nums)-1):\n",
    "        if nums[idx] == nums[idx+1]:\n",
    "            return True\n",
    "    return False\n",
    "\n",
    "# nums = [1,1,1,3,3,4,3,2,3,4]\n",
    "# nums =[1]\n",
    "containsDuplicate(nums)"
   ]
  },
  {
   "attachments": {},
   "cell_type": "markdown",
   "metadata": {},
   "source": [
    "### TWO NUMBER SUM <Blind 75>\n",
    "Given an array of integers nums and an integer target, return indices of the two numbers such that they add up to target.\n",
    "\n",
    "You may assume that each input would have exactly one solution, and you may not use the same element twice.\n",
    "\n",
    "You can return the answer in any order.\n",
    "\n",
    "<**Example 1**>\n",
    "```\n",
    "Input: nums = [2,7,11,15], target = 9\n",
    "Output: [0,1]\n",
    "Explanation: Because nums[0] + nums[1] == 9, we return [0, 1].\n",
    "```\n",
    "<**Example 2**>\n",
    "```\n",
    "Input: nums = [3,2,4], target = 6\n",
    "Output: [1,2]\n",
    "```\n",
    "<**Example 3**>\n",
    "```\n",
    "Input: nums = [3,3], target = 6\n",
    "Output: [0,1]\n",
    "```\n",
    "\n",
    "<**Question**>\n",
    "```\n",
    "def twoSum(nums):\n",
    "  # Write your code here\n",
    "  pass\n",
    "```\n",
    "\n",
    "<**Constraints**>\n",
    "- 2 <= nums.length <= 10^4\n",
    "- -10^9 <= nums[i] <= 10^9\n",
    "- -10^9 <= target <= 10^9\n",
    "- Only one valid answer exists."
   ]
  },
  {
   "attachments": {},
   "cell_type": "markdown",
   "metadata": {},
   "source": [
    "Solution\n",
    "- Time Complexity: O(N)\n",
    "- Space Complexity: O(N) => We can potentially add every value to the hash map"
   ]
  },
  {
   "cell_type": "code",
   "execution_count": null,
   "metadata": {},
   "outputs": [],
   "source": [
    "# This solution can work for the following reasons:\n",
    "# There is only one answer pair\n",
    "# Although we didn't sort the array, when we get to the first answer value,\n",
    "# the preMap will not have the second value (because the dictionary only contains values that come before it)\n",
    "\n",
    "def twoSum(nums, target):\n",
    "    preMap = {}\n",
    "    for idx, value in enumerate(nums):\n",
    "        diff = target - value\n",
    "        if diff in preMap:\n",
    "            return [preMap[diff], idx]\n",
    "        preMap[value] = idx\n",
    "\n",
    "nums = [2, 7, 11, 15]\n",
    "target = 9\n",
    "twoSum(nums, target)"
   ]
  },
  {
   "attachments": {},
   "cell_type": "markdown",
   "metadata": {},
   "source": [
    "### THREE NUMBER SUM <Blind 75>\n",
    "\n",
    "Given an integer array nums, return all the triplets `[nums[i], nums[j], nums[k]]` such that `i != j`, `i != k`, and `j != k`, and `nums[i] + nums[j] + nums[k] == 0`.\n",
    "\n",
    "Notice that the solution set must not contain duplicate triplets.\n",
    "\n",
    " \n",
    "<**Example 1**>\n",
    "```\n",
    "Input: nums = [-1,0,1,2,-1,-4]\n",
    "Output: [[-1,-1,2],[-1,0,1]]\n",
    "Explanation: \n",
    "nums[0] + nums[1] + nums[2] = (-1) + 0 + 1 = 0.\n",
    "nums[1] + nums[2] + nums[4] = 0 + 1 + (-1) = 0.\n",
    "nums[0] + nums[3] + nums[4] = (-1) + 2 + (-1) = 0.\n",
    "The distinct triplets are [-1,0,1] and [-1,-1,2].\n",
    "Notice that the order of the output and the order of the triplets does not matter.\n",
    "```\n",
    "<**Example 2**>\n",
    "```\n",
    "Input: nums = [0,1,1]\n",
    "Output: []\n",
    "Explanation: The only possible triplet does not sum up to 0.\n",
    "```\n",
    "<**Example 3**>\n",
    "```\n",
    "Input: nums = [0,0,0]\n",
    "Output: [[0,0,0]]\n",
    "Explanation: The only possible triplet sums up to 0.\n",
    "```\n",
    "<**Question**>\n",
    "```\n",
    "def threeSum(nums):\n",
    "    # Write your code here.\n",
    "    pass\n",
    "```\n",
    "<**Constraints**>\n",
    "- 3 <= nums.length <= 3000\n",
    "- -10^5 <= nums[i] <= 10^5"
   ]
  },
  {
   "attachments": {},
   "cell_type": "markdown",
   "metadata": {},
   "source": [
    "Solution\n",
    "- Time Complexity: O(N^2)\n",
    "- Space Complexity: O(1) => or can be O(N) because sorting does take extra memory in some libraries"
   ]
  },
  {
   "cell_type": "code",
   "execution_count": null,
   "metadata": {},
   "outputs": [],
   "source": [
    "def threeSum(nums):\n",
    "    nums.sort()\n",
    "    resultArray = []\n",
    "    \n",
    "    for idx in range(len(nums)-2):\n",
    "        # prevent duplication of first\n",
    "        if idx > 0 and nums[idx] == nums[idx-1]:\n",
    "            continue\n",
    "        \n",
    "        left, right = idx + 1, len(nums) - 1\n",
    "        \n",
    "        while left < right:\n",
    "            totalSum = nums[idx] + nums[left] + nums[right]\n",
    "            if totalSum == 0:\n",
    "                resultArray.append([nums[idx], nums[left], nums[right]])\n",
    "                left += 1\n",
    "                # prevent duplication of second\n",
    "                while left < right and nums[left] == nums[left-1]:\n",
    "                    left += 1\n",
    "            elif totalSum > 0:\n",
    "                right -= 1\n",
    "            else: \n",
    "                left +=1\n",
    "    return resultArray\n",
    "\n",
    "numbers = [-1,0,1,2,-1,-4]\n",
    "\n",
    "# total - a = b + c\n",
    "#   i\n",
    "# [-2, 0, 0, 2, 2]\n",
    "#      l        r\n",
    "# totalSum = 2\n",
    "# resArr = [[-2, 0, 2], ]\n",
    "# idx = 0\n",
    "# left = 1(idx+1)\n",
    "# right = 4(len(nums-1))\n",
    "\n",
    "print(threeSum(numbers))"
   ]
  },
  {
   "attachments": {},
   "cell_type": "markdown",
   "metadata": {},
   "source": [
    "### PALINDROME CHECK <Blind 75>\n",
    "A phrase is a palindrome if, after converting all uppercase letters into lowercase letters and removing all non-alphanumeric characters, it reads the same forward and backward. Alphanumeric characters include letters and numbers.\n",
    "\n",
    "Given a string s, return true if it is a *palindrome*, or false otherwise.\n",
    "\n",
    "<**Example 1**>\n",
    "```\n",
    "Input: s = \"A man, a plan, a canal: Panama\"\n",
    "Output: true\n",
    "Explanation: \"amanaplanacanalpanama\" is a palindrome.\n",
    "```\n",
    "<**Example 2**>\n",
    "```\n",
    "Input: s = \"race a car\"\n",
    "Output: false\n",
    "Explanation: \"raceacar\" is not a palindrome.\n",
    "```\n",
    "<**Example 3**>\n",
    "```\n",
    "Input: s = \" \"\n",
    "Output: true\n",
    "Explanation: s is an empty string \"\" after removing non-alphanumeric characters.\n",
    "Since an empty string reads the same forward and backward, it is a palindrome.\n",
    "```\n",
    "<**Question**>\n",
    "```\n",
    "def isPalindrome(string):\n",
    "    # Write your code here\n",
    "    pass\n",
    "```\n",
    "<**Constraints**>\n",
    "- 1 <= s.length <= 2*105\n",
    "- s consists only of printable ASCII characters.\n"
   ]
  },
  {
   "attachments": {},
   "cell_type": "markdown",
   "metadata": {},
   "source": [
    "Solution\n",
    "- Time Complexity: O(N)\n",
    "- Space Complexity: O(1)"
   ]
  },
  {
   "cell_type": "code",
   "execution_count": null,
   "metadata": {},
   "outputs": [],
   "source": [
    "def isPalindrome(s):\n",
    "    start, end = 0, len(s)-1\n",
    "    while start < end:\n",
    "        while start < end and not alphanum(s[start]):\n",
    "            start += 1\n",
    "        while start < end and not alphanum(s[end]):\n",
    "            end -= 1\n",
    "        if s[start].lower() != s[end].lower():\n",
    "            return False\n",
    "        start += 1\n",
    "        end -= 1\n",
    "    return True\n",
    "        \n",
    "def alphanum(char):\n",
    "    return (ord('a') <= ord(char) <= ord('z')\n",
    "        or ord('A') <= ord(char) <= ord('Z')\n",
    "        or ord('0') <= ord(char) <= ord('9'))\n",
    "\n",
    "string = \"A man, a plan, a canal: Panama\"\n",
    "print(isPalindrome(string))"
   ]
  },
  {
   "attachments": {},
   "cell_type": "markdown",
   "metadata": {},
   "source": [
    "## B I T _ M A N I P U L A T I O N"
   ]
  },
  {
   "attachments": {},
   "cell_type": "markdown",
   "metadata": {},
   "source": [
    "### NUMBER OF 1 BITS <Blind 75>\n",
    "Write a function that takes an unsigned integer and returns the number of '1' bits it has (also known as the Hamming weight).\n",
    "\n",
    "Note:\n",
    "- Note that in some languages, such as Java, there is no unsigned integer type. In this case, the input will be given as a signed integer type. It should not affect your implementation, as the integer's internal binary representation is the same, whether it is signed or unsigned.\n",
    "- In Java, the compiler represents the signed integers using 2's complement notation. Therefore, in Example 3, the input represents the signed integer. -3.\n",
    "\n",
    "<**Example 1**>\n",
    "```\n",
    "Input: n = 00000000000000000000000000001011\n",
    "Output: 3\n",
    "Explanation: The input binary string 00000000000000000000000000001011 has a total of three '1' bits.\n",
    "```\n",
    "<**Example 2**>\n",
    "```\n",
    "Input: n = 00000000000000000000000010000000\n",
    "Output: 1\n",
    "Explanation: The input binary string 00000000000000000000000010000000 has a total of one '1' bit.\n",
    "```\n",
    "<**Example 3**>\n",
    "```\n",
    "Input: n = 11111111111111111111111111111101\n",
    "Output: 31\n",
    "Explanation: The input binary string 11111111111111111111111111111101 has a total of thirty one '1' bits.\n",
    "```\n",
    "<**Question**>\n",
    "```\n",
    "def hammingWeight(n):\n",
    "  pass\n",
    "```\n",
    "\n",
    "<**Constraints**>\n",
    "- The input must be a binary string of length 32.\n"
   ]
  },
  {
   "attachments": {},
   "cell_type": "markdown",
   "metadata": {},
   "source": [
    "Solution 1\n",
    "- Time Complexity: O(1)\n",
    "- Space Complexity: O(1)"
   ]
  },
  {
   "cell_type": "code",
   "execution_count": null,
   "metadata": {},
   "outputs": [],
   "source": [
    "def hammingWeight(n):\n",
    "    count = 0\n",
    "    while n:\n",
    "        count += n % 2\n",
    "        n = n >> 1\n",
    "    return count\n",
    "\n",
    "n = int('1011111110',2)\n",
    "print(hammingWeight(n))"
   ]
  },
  {
   "attachments": {},
   "cell_type": "markdown",
   "metadata": {},
   "source": [
    "Solution 2 (Better)\n",
    "- Time Complexity:\n",
    "- Space Complexity: O(1)\n",
    "\n",
    "Key Idea\n",
    "- Solution 1 works fine, but this is a more efficient way.\n",
    "- 10000001(2) is an example where Solution 1 runs not efficiently (for having to go through the whole thing even when there are only 2 ones)\n",
    "- This solution helps skipping 0s"
   ]
  },
  {
   "cell_type": "code",
   "execution_count": null,
   "metadata": {},
   "outputs": [],
   "source": [
    "# Solution 1 works fine, but this is a more efficient way\n",
    "\n",
    "# 1000 0001 ==> 1 + 2^7 = 129\n",
    "# 1000 0000 ==> 2^7 = 128\n",
    "# n = n & (n-1)\n",
    "# 0111 1111 ==> 2^6 + 2^5 + 2^4 + 2^3 + 2^2 + 2^1 + 2^0 = 127\n",
    "# 0111 1110 ==> 126\n",
    "def hammingWeightTwo(n):\n",
    "    count = 0\n",
    "    while n:\n",
    "        n &= (n-1) # n = n & (n-1) helps deleting the rightmost 1\n",
    "        count += 1\n",
    "    return count\n",
    "n = int('10000001',2)\n",
    "print(hammingWeightTwo(n))"
   ]
  },
  {
   "attachments": {},
   "cell_type": "markdown",
   "metadata": {},
   "source": [
    "### COUNTING BITS <Blind 75>\n",
    "\n",
    "Given an integer n, return an array ans of length n + 1 such that for each i (0 <= i <= n), ans[i] is the number of 1's in the binary representation of i.\n",
    "\n",
    "\n",
    "<**Example 1**>\n",
    "```\n",
    "Input: n = 2\n",
    "Output: [0,1,1]\n",
    "Explanation:\n",
    "0 --> 0\n",
    "1 --> 1\n",
    "2 --> 10\n",
    "```\n",
    "<**Example 2**>\n",
    "```\n",
    "Input: n = 5\n",
    "Output: [0,1,1,2,1,2]\n",
    "Explanation:\n",
    "0 --> 0\n",
    "1 --> 1\n",
    "2 --> 10\n",
    "3 --> 11\n",
    "4 --> 100\n",
    "5 --> 101\n",
    "```\n",
    "\n",
    "<**Constraints**>\n",
    "- 0 <= n <= 10^5\n",
    " \n",
    "\n",
    "<**Note**>\n",
    "- It is very easy to come up with a solution with a runtime of O(n log n).\n",
    "- Can you do it in linear time O(n) and possibly in a single pass?\n",
    "- Can you do it without using any built-in function (i.e., like __builtin_popcount in C++)?"
   ]
  },
  {
   "attachments": {},
   "cell_type": "markdown",
   "metadata": {},
   "source": [
    "Solution\n",
    "- Time Complexity: O(N)\n",
    "- Space Complexity: O(N)\n",
    "\n",
    "Key Idea\n",
    "- This is also DYNAMIC PROGRAMMING.\n",
    "- Brute Force : for each index, turn the index into a binary number and count 1 (just like we did in Solution 1 of 'Number of 1 Bits' question).\n",
    "    - But, time complexity is O(NlogN) : each operation to"
   ]
  },
  {
   "cell_type": "code",
   "execution_count": null,
   "metadata": {},
   "outputs": [],
   "source": [
    "# Pattern: 0(0), 1(1), 2(10), 3(11), 4(100), 5(101), 6(110), 7(111), 8(1000),....\n",
    "# 0000, 0001, 0010, 0011, 0100, 0101, 0110, 0111, 1000, ...\n",
    "# 0, 1 | 1, 2 | 1, 2, 2, 3 | 1, ...\n",
    "\n",
    "def countingBits(n):\n",
    "    ans = [0] * (n+1)\n",
    "    offset = 1\n",
    "    for idx in range(1, n+1):\n",
    "        if idx == offset * 2:\n",
    "            offset *= 2\n",
    "        ans[idx] = ans[idx - offset] + 1\n",
    "    return ans\n",
    "\n",
    "n = 5\n",
    "print(countingBits(n))"
   ]
  },
  {
   "attachments": {},
   "cell_type": "markdown",
   "metadata": {},
   "source": [
    "### REVERSE BITS <Blind 75>\n",
    "\n",
    "Reverse bits of a given 32 bits unsigned integer.\n",
    "\n",
    "Note:\n",
    "- Note that in some languages, such as Java, there is no unsigned integer type. In this case, both input and output will be given as a signed integer type. They should not affect your implementation, as the integer's internal binary representation is the same, whether it is signed or unsigned.\n",
    "- In Java, the compiler represents the signed integers using 2's complement notation. Therefore, in Example 2 above, the input represents the signed integer `-3` and the output represents the signed integer `-1073741825`.\n",
    "\n",
    "\n",
    "<**Example 1**>\n",
    "```\n",
    "Input: n = 00000010100101000001111010011100\n",
    "Output: 964176192 (00111001011110000010100101000000)\n",
    "\n",
    "Explanation: The input binary string 00000010100101000001111010011100 represents the unsigned integer 43261596, so return 964176192 which its binary representation is 00111001011110000010100101000000.\n",
    "```\n",
    "<**Example 2**>\n",
    "```\n",
    "Input: n = 11111111111111111111111111111101\n",
    "Output: 3221225471 (10111111111111111111111111111111)\n",
    "\n",
    "Explanation: The input binary string 11111111111111111111111111111101 represents the unsigned integer 4294967293, so return 3221225471 which its binary representation is 10111111111111111111111111111111.\n",
    "```\n",
    "\n",
    "<**Constraints**>\n",
    "- The input must be a binary string of length 32"
   ]
  },
  {
   "attachments": {},
   "cell_type": "markdown",
   "metadata": {},
   "source": [
    "Solution\n",
    "- Time Complexity: O()\n",
    "- Space Complexity: O()"
   ]
  },
  {
   "cell_type": "code",
   "execution_count": null,
   "metadata": {},
   "outputs": [],
   "source": [
    "# Not using Bit manipulation\n",
    "def reverseBits(n):\n",
    "    newBits = []\n",
    "    while n:\n",
    "        newBits.append(str(n % 2))\n",
    "        n = n // 2\n",
    "    for i in range(32-len(newBits)):\n",
    "        newBits.append('0')\n",
    "    binString = ''.join(newBits)\n",
    "    return int(binString,2)\n",
    "x\n",
    "n = int('00000010100101000001111010011100',2)\n",
    "print(reverseBits(n))\n"
   ]
  },
  {
   "cell_type": "code",
   "execution_count": null,
   "metadata": {},
   "outputs": [],
   "source": [
    "# Using Bit manipulation\n",
    "def reverseBitsTwo(n):\n",
    "    res = 0\n",
    "    for bitIdx in range(32):\n",
    "        newBits = ( n >> bitIdx ) & 1\n",
    "        res = res | newBits << (31 - bitIdx)\n",
    "    return res\n",
    "\n",
    "n = int('00000010100101000001111010011100',2)\n",
    "print(reverseBitsTwo(n))"
   ]
  },
  {
   "attachments": {},
   "cell_type": "markdown",
   "metadata": {},
   "source": [
    "## S T A C K"
   ]
  },
  {
   "attachments": {},
   "cell_type": "markdown",
   "metadata": {},
   "source": [
    "### Valid Parentheses / Balanced Brackets <Blind 75>\n",
    "Given a string s containing just the characters `'(', ')', '{', '}', '[' and ']'`, determine if the input string is valid.\n",
    "\n",
    "An input string is valid if:\n",
    "- Open brackets must be closed by the same type of brackets.\n",
    "- Open brackets must be closed in the correct order.\n",
    "- Every close bracket has a corresponding open bracket of the same type.\n",
    " \n",
    "<**Example 1**>\n",
    "```\n",
    "Input: s = \"()\"\n",
    "Output: true\n",
    "```\n",
    "<**Example 2**>\n",
    "```\n",
    "Input: s = \"()[]{}\"\n",
    "Output: true\n",
    "```\n",
    "<**Example 3**>\n",
    "```\n",
    "Input: s = \"(]\"\n",
    "Output: false\n",
    "```\n",
    "\n",
    "<**Constraints**>\n",
    "- 1 <= s.length <= 104\n",
    "- s consists of parentheses only '()[]{}'."
   ]
  },
  {
   "attachments": {},
   "cell_type": "markdown",
   "metadata": {},
   "source": [
    "Solution\n",
    "- Time Complexity: O(N)\n",
    "- Space Complexity: O(N)"
   ]
  },
  {
   "cell_type": "code",
   "execution_count": null,
   "metadata": {},
   "outputs": [],
   "source": [
    "def isValid(s):\n",
    "    closing = {')':'(', '}':'{', ']':'['}\n",
    "    stack = []\n",
    "    \n",
    "    for bracket in s:\n",
    "        if bracket not in closing:\n",
    "            stack.append(bracket)\n",
    "        else:\n",
    "            if not stack or closing[bracket] != stack[-1]:\n",
    "                return False\n",
    "            else:\n",
    "                stack.pop()\n",
    "            \n",
    "    return len(stack) == 0\n",
    "\n",
    "s = '(){}'\n",
    "print(isValid(s))\n"
   ]
  }
 ],
 "metadata": {
  "kernelspec": {
   "display_name": "Python 3",
   "language": "python",
   "name": "python3"
  },
  "language_info": {
   "codemirror_mode": {
    "name": "ipython",
    "version": 3
   },
   "file_extension": ".py",
   "mimetype": "text/x-python",
   "name": "python",
   "nbconvert_exporter": "python",
   "pygments_lexer": "ipython3",
   "version": "3.10.7"
  },
  "orig_nbformat": 4,
  "vscode": {
   "interpreter": {
    "hash": "aee8b7b246df8f9039afb4144a1f6fd8d2ca17a180786b69acc140d282b71a49"
   }
  }
 },
 "nbformat": 4,
 "nbformat_minor": 2
}
