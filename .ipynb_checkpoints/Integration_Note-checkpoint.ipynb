{
 "cells": [
  {
   "cell_type": "markdown",
   "id": "8e2069e4",
   "metadata": {},
   "source": [
    "# Sorting\n",
    "1. Insertion Sort\n",
    "2. Selection Sort\n",
    "3. Bubble Sort\n",
    "4. Quick Sort\n",
    "5. Merge Sort\n",
    "6. Heap Sort\n",
    "7. Counting Sort"
   ]
  },
  {
   "cell_type": "code",
   "execution_count": null,
   "id": "c8f05f6b",
   "metadata": {},
   "outputs": [],
   "source": []
  }
 ],
 "metadata": {
  "kernelspec": {
   "display_name": "Python 3",
   "language": "python",
   "name": "python3"
  },
  "language_info": {
   "codemirror_mode": {
    "name": "ipython",
    "version": 3
   },
   "file_extension": ".py",
   "mimetype": "text/x-python",
   "name": "python",
   "nbconvert_exporter": "python",
   "pygments_lexer": "ipython3",
   "version": "3.8.8"
  }
 },
 "nbformat": 4,
 "nbformat_minor": 5
}
